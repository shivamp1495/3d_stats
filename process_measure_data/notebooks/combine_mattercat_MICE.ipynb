{
 "cells": [
  {
   "cell_type": "code",
   "execution_count": 1,
   "metadata": {},
   "outputs": [
    {
     "name": "stdin",
     "output_type": "stream",
     "text": [
      "Once deleted, variables cannot be recovered. Proceed (y/[n])?  y\n"
     ]
    }
   ],
   "source": [
    "%reset\n",
    "import sys, os\n",
    "import numpy as np\n",
    "import matplotlib.pyplot as plt\n",
    "import scipy.integrate as integrate\n",
    "import random\n",
    "import treecorr\n",
    "from astropy.io import fits\n",
    "import pickle as pk\n",
    "import os.path\n",
    "from os import path\n",
    "\n",
    "\n"
   ]
  },
  {
   "cell_type": "code",
   "execution_count": 47,
   "metadata": {},
   "outputs": [],
   "source": [
    "old_f = np.loadtxt('/global/project/projectdirs/des/y3-bias/MICE_all_data/v2/L3072N4096-LC129-1in700.dat')\n",
    "\n"
   ]
  },
  {
   "cell_type": "code",
   "execution_count": 48,
   "metadata": {},
   "outputs": [
    {
     "data": {
      "text/plain": [
       "(50865143, 3)"
      ]
     },
     "execution_count": 48,
     "metadata": {},
     "output_type": "execute_result"
    }
   ],
   "source": [
    "old_f.shape\n",
    "# \n"
   ]
  },
  {
   "cell_type": "code",
   "execution_count": null,
   "metadata": {},
   "outputs": [],
   "source": []
  },
  {
   "cell_type": "code",
   "execution_count": 31,
   "metadata": {},
   "outputs": [],
   "source": [
    "df = np.loadtxt('/global/project/projectdirs/des/shivamp/actxdes/data_set/mice_sims/matter1in100/lightcone_129_1in100.269')\n",
    "\n"
   ]
  },
  {
   "cell_type": "code",
   "execution_count": 32,
   "metadata": {},
   "outputs": [
    {
     "data": {
      "text/plain": [
       "(156964, 4)"
      ]
     },
     "execution_count": 32,
     "metadata": {},
     "output_type": "execute_result"
    }
   ],
   "source": [
    "df.shape\n",
    "# nobj = df.shape[0]/3\n",
    "# ind = np.random.randint(0, nobj, df.shape[0])\n",
    "# print ind\n",
    "\n",
    "# #\n"
   ]
  },
  {
   "cell_type": "code",
   "execution_count": 4,
   "metadata": {},
   "outputs": [],
   "source": [
    "# ind = np.random.randint(0,10000,df.shape[0])\n",
    "# plt.figure\n",
    "# plt.scatter(df[ind,0],df[ind,1])\n",
    "# plt.show()\n",
    "\n",
    "\n"
   ]
  },
  {
   "cell_type": "code",
   "execution_count": 5,
   "metadata": {},
   "outputs": [],
   "source": [
    "# old_f.shape[0]/(1.0*df.shape[0])\n",
    "\n"
   ]
  },
  {
   "cell_type": "code",
   "execution_count": null,
   "metadata": {},
   "outputs": [],
   "source": [
    "\n",
    "\n",
    "\n",
    "\n",
    "\n"
   ]
  },
  {
   "cell_type": "code",
   "execution_count": 39,
   "metadata": {},
   "outputs": [
    {
     "name": "stdout",
     "output_type": "stream",
     "text": [
      "0\n",
      "10\n",
      "20\n",
      "30\n",
      "40\n",
      "50\n",
      "60\n",
      "70\n",
      "80\n",
      "90\n",
      "100\n",
      "110\n",
      "120\n",
      "130\n",
      "140\n",
      "150\n",
      "160\n"
     ]
    },
    {
     "name": "stderr",
     "output_type": "stream",
     "text": [
      "/global/u1/s/spandey/myenv_new/lib/python2.7/site-packages/ipykernel_launcher.py:28: UserWarning: loadtxt: Empty input file: \"/global/project/projectdirs/des/shivamp/actxdes/data_set/mice_sims/matter1in100/lightcone_129_1in100.2163\"\n",
      "/global/u1/s/spandey/myenv_new/lib/python2.7/site-packages/ipykernel_launcher.py:28: UserWarning: loadtxt: Empty input file: \"/global/project/projectdirs/des/shivamp/actxdes/data_set/mice_sims/matter1in100/lightcone_129_1in100.2165\"\n"
     ]
    },
    {
     "name": "stdout",
     "output_type": "stream",
     "text": [
      "tile 163 has no objects\n",
      "tile 165 has no objects\n",
      "170\n",
      "180\n",
      "190\n",
      "200\n"
     ]
    },
    {
     "name": "stderr",
     "output_type": "stream",
     "text": [
      "/global/u1/s/spandey/myenv_new/lib/python2.7/site-packages/ipykernel_launcher.py:28: UserWarning: loadtxt: Empty input file: \"/global/project/projectdirs/des/shivamp/actxdes/data_set/mice_sims/matter1in100/lightcone_129_1in100.2204\"\n"
     ]
    },
    {
     "name": "stdout",
     "output_type": "stream",
     "text": [
      "tile 204 has no objects\n"
     ]
    },
    {
     "name": "stderr",
     "output_type": "stream",
     "text": [
      "/global/u1/s/spandey/myenv_new/lib/python2.7/site-packages/ipykernel_launcher.py:28: UserWarning: loadtxt: Empty input file: \"/global/project/projectdirs/des/shivamp/actxdes/data_set/mice_sims/matter1in100/lightcone_129_1in100.2209\"\n"
     ]
    },
    {
     "name": "stdout",
     "output_type": "stream",
     "text": [
      "tile 209 has no objects\n",
      "210\n",
      "220\n",
      "230\n",
      "240\n",
      "250\n",
      "260\n",
      "270\n",
      "280\n",
      "290\n",
      "300\n",
      "310\n",
      "320\n",
      "330\n",
      "340\n",
      "350\n",
      "360\n",
      "370\n",
      "380\n",
      "390\n",
      "400\n",
      "410\n",
      "420\n",
      "430\n",
      "440\n"
     ]
    },
    {
     "name": "stderr",
     "output_type": "stream",
     "text": [
      "WARNING: AstropyDeprecationWarning: \"clobber\" was deprecated in version 2.0 and will be removed in a future version. Use argument \"overwrite\" instead. [astropy.utils.decorators]\n"
     ]
    }
   ],
   "source": [
    "basedir = '/global/project/projectdirs/des/shivamp/actxdes/data_set/mice_sims/matter1in100/'\n",
    "\n",
    "# fext = np.linspace(0,2442,2443)\n",
    "# fext = np.linspace(0,2442,10)\n",
    "\n",
    "fext1 = np.arange(1000)\n",
    "\n",
    "fext2 = np.arange(1000,2000)\n",
    "\n",
    "fext3 = np.arange(2000,2443)\n",
    "\n",
    "for i in range(2,3):\n",
    "    if i == 0:\n",
    "        fext = fext1\n",
    "    \n",
    "    if i == 1:\n",
    "        fext = fext2\n",
    "    \n",
    "    if i == 2:\n",
    "        fext = fext3\n",
    "        \n",
    "    ra, dec, z_true = [], [], []\n",
    "    for j in range(len(fext)):\n",
    "        if np.mod(j, 10) == 0:\n",
    "            print j\n",
    "        filename = basedir + 'lightcone_129_1in100.' + str(int(fext[j]))\n",
    "        if path.isfile(filename):\n",
    "            data = np.loadtxt(filename)\n",
    "\n",
    "            if len(data) > 0:\n",
    "                nobj = data.shape[0]/3\n",
    "                if nobj > 1:\n",
    "                    ind = np.unique(np.random.randint(0, nobj, data.shape[0]))\n",
    "                    if len(ra) == 0:\n",
    "                        ra = data[ind, 0]\n",
    "\n",
    "                        dec = data[ind, 1]\n",
    "                        z_true = data[ind, 2]\n",
    "                    else:\n",
    "                        ra = np.hstack((ra,data[ind, 0]))\n",
    "                        dec = np.hstack((dec,data[ind, 1]))\n",
    "                        z_true = np.hstack((z_true,data[ind, 2]))\n",
    "                else:\n",
    "                    print('tile ' + str(j) + ' has less objects')\n",
    "\n",
    "            else:\n",
    "                print('tile ' + str(j) + ' has no objects')\n",
    "\n",
    "    c1 = fits.Column(name='RA', array=np.array(ra), format='E')\n",
    "    c2 = fits.Column(name='DEC', array=np.array(dec), format='E')\n",
    "    c3 = fits.Column(name='Z', array=np.array(z_true), format='E')\n",
    "\n",
    "    t = fits.BinTableHDU.from_columns([c1, c2, c3])\n",
    "    t.writeto( '/global/project/projectdirs/des/y3-bias/MICE_all_data/v2/matter_ra_dec_z_L3072N4096-LC129-1in300_ind_' + str(np.min(fext)) + '_' + str(np.max(fext)) + '.fits', clobber=True)    \n",
    "\n",
    "\n",
    "    \n",
    "\n"
   ]
  },
  {
   "cell_type": "code",
   "execution_count": 10,
   "metadata": {},
   "outputs": [
    {
     "name": "stdout",
     "output_type": "stream",
     "text": [
      "0\n",
      "10\n",
      "20\n",
      "tile 20 has less objects\n",
      "30\n",
      "40\n",
      "50\n",
      "tile 54 has less objects\n"
     ]
    },
    {
     "name": "stderr",
     "output_type": "stream",
     "text": [
      "/global/u1/s/spandey/myenv_new/lib/python2.7/site-packages/ipykernel_launcher.py:27: UserWarning: loadtxt: Empty input file: \"/global/project/projectdirs/des/shivamp/actxdes/data_set/mice_sims/matter1in100/lightcone_129_1in100.1057\"\n"
     ]
    },
    {
     "name": "stdout",
     "output_type": "stream",
     "text": [
      "tile 57 has no objects\n",
      "60\n",
      "tile 64 has less objects\n",
      "tile 69 has less objects\n",
      "70\n",
      "80\n",
      "90\n",
      "100\n",
      "110\n",
      "120\n",
      "tile 121 has less objects\n",
      "tile 122 has less objects\n",
      "tile 125 has less objects\n",
      "130\n",
      "tile 133 has less objects\n"
     ]
    },
    {
     "name": "stderr",
     "output_type": "stream",
     "text": [
      "/global/u1/s/spandey/myenv_new/lib/python2.7/site-packages/ipykernel_launcher.py:27: UserWarning: loadtxt: Empty input file: \"/global/project/projectdirs/des/shivamp/actxdes/data_set/mice_sims/matter1in100/lightcone_129_1in100.1137\"\n"
     ]
    },
    {
     "name": "stdout",
     "output_type": "stream",
     "text": [
      "tile 137 has no objects\n",
      "140\n",
      "150\n"
     ]
    },
    {
     "name": "stderr",
     "output_type": "stream",
     "text": [
      "/global/u1/s/spandey/myenv_new/lib/python2.7/site-packages/ipykernel_launcher.py:27: UserWarning: loadtxt: Empty input file: \"/global/project/projectdirs/des/shivamp/actxdes/data_set/mice_sims/matter1in100/lightcone_129_1in100.1155\"\n"
     ]
    },
    {
     "name": "stdout",
     "output_type": "stream",
     "text": [
      "tile 155 has no objects\n",
      "160\n",
      "170\n",
      "180\n",
      "190\n"
     ]
    },
    {
     "name": "stderr",
     "output_type": "stream",
     "text": [
      "/global/u1/s/spandey/myenv_new/lib/python2.7/site-packages/ipykernel_launcher.py:27: UserWarning: loadtxt: Empty input file: \"/global/project/projectdirs/des/shivamp/actxdes/data_set/mice_sims/matter1in100/lightcone_129_1in100.1193\"\n"
     ]
    },
    {
     "name": "stdout",
     "output_type": "stream",
     "text": [
      "tile 193 has no objects\n",
      "200\n",
      "210\n",
      "220\n",
      "230\n",
      "240\n",
      "250\n",
      "260\n",
      "270\n",
      "280\n",
      "290\n",
      "300\n",
      "310\n",
      "320\n",
      "330\n",
      "340\n",
      "350\n",
      "360\n",
      "370\n",
      "380\n",
      "390\n",
      "400\n",
      "410\n",
      "420\n",
      "430\n",
      "440\n",
      "450\n",
      "460\n",
      "470\n",
      "480\n",
      "490\n",
      "500\n",
      "510\n",
      "520\n",
      "530\n",
      "540\n",
      "550\n",
      "560\n",
      "tile 560 has no objects\n"
     ]
    },
    {
     "name": "stderr",
     "output_type": "stream",
     "text": [
      "/global/u1/s/spandey/myenv_new/lib/python2.7/site-packages/ipykernel_launcher.py:27: UserWarning: loadtxt: Empty input file: \"/global/project/projectdirs/des/shivamp/actxdes/data_set/mice_sims/matter1in100/lightcone_129_1in100.1560\"\n"
     ]
    },
    {
     "name": "stdout",
     "output_type": "stream",
     "text": [
      "570\n"
     ]
    },
    {
     "name": "stderr",
     "output_type": "stream",
     "text": [
      "/global/u1/s/spandey/myenv_new/lib/python2.7/site-packages/ipykernel_launcher.py:27: UserWarning: loadtxt: Empty input file: \"/global/project/projectdirs/des/shivamp/actxdes/data_set/mice_sims/matter1in100/lightcone_129_1in100.1578\"\n"
     ]
    },
    {
     "name": "stdout",
     "output_type": "stream",
     "text": [
      "tile 578 has no objects\n",
      "580\n",
      "590\n",
      "600\n"
     ]
    },
    {
     "name": "stderr",
     "output_type": "stream",
     "text": [
      "/global/u1/s/spandey/myenv_new/lib/python2.7/site-packages/ipykernel_launcher.py:27: UserWarning: loadtxt: Empty input file: \"/global/project/projectdirs/des/shivamp/actxdes/data_set/mice_sims/matter1in100/lightcone_129_1in100.1602\"\n"
     ]
    },
    {
     "name": "stdout",
     "output_type": "stream",
     "text": [
      "tile 602 has no objects\n"
     ]
    },
    {
     "name": "stderr",
     "output_type": "stream",
     "text": [
      "/global/u1/s/spandey/myenv_new/lib/python2.7/site-packages/ipykernel_launcher.py:27: UserWarning: loadtxt: Empty input file: \"/global/project/projectdirs/des/shivamp/actxdes/data_set/mice_sims/matter1in100/lightcone_129_1in100.1604\"\n"
     ]
    },
    {
     "name": "stdout",
     "output_type": "stream",
     "text": [
      "tile 604 has no objects\n",
      "610\n",
      "tile 617 has less objects\n",
      "620\n",
      "tile 623 has less objects\n",
      "630\n"
     ]
    },
    {
     "name": "stderr",
     "output_type": "stream",
     "text": [
      "/global/u1/s/spandey/myenv_new/lib/python2.7/site-packages/ipykernel_launcher.py:27: UserWarning: loadtxt: Empty input file: \"/global/project/projectdirs/des/shivamp/actxdes/data_set/mice_sims/matter1in100/lightcone_129_1in100.1636\"\n"
     ]
    },
    {
     "name": "stdout",
     "output_type": "stream",
     "text": [
      "tile 636 has no objects\n",
      "640\n",
      "650\n",
      "660\n",
      "tile 666 has less objects\n",
      "670\n",
      "680\n",
      "690\n",
      "700\n",
      "710\n",
      "720\n",
      "tile 726 has less objects\n",
      "730\n",
      "740\n",
      "tile 746 has less objects\n",
      "750\n",
      "760\n",
      "tile 764 has less objects\n",
      "770\n"
     ]
    },
    {
     "name": "stderr",
     "output_type": "stream",
     "text": [
      "/global/u1/s/spandey/myenv_new/lib/python2.7/site-packages/ipykernel_launcher.py:27: UserWarning: loadtxt: Empty input file: \"/global/project/projectdirs/des/shivamp/actxdes/data_set/mice_sims/matter1in100/lightcone_129_1in100.1779\"\n"
     ]
    },
    {
     "name": "stdout",
     "output_type": "stream",
     "text": [
      "tile 779 has no objects\n",
      "780\n",
      "tile 783 has less objects\n",
      "tile 786 has less objects\n",
      "790\n",
      "tile 790 has less objects\n",
      "800\n",
      "tile 807 has less objects\n",
      "810\n",
      "tile 813 has less objects\n",
      "820\n",
      "tile 821 has less objects\n",
      "830\n",
      "840\n",
      "tile 841 has less objects\n",
      "850\n",
      "860\n",
      "870\n",
      "880\n",
      "890\n",
      "tile 899 has less objects\n",
      "900\n",
      "910\n",
      "920\n",
      "930\n",
      "940\n",
      "950\n",
      "tile 950 has no objects\n"
     ]
    },
    {
     "name": "stderr",
     "output_type": "stream",
     "text": [
      "/global/u1/s/spandey/myenv_new/lib/python2.7/site-packages/ipykernel_launcher.py:27: UserWarning: loadtxt: Empty input file: \"/global/project/projectdirs/des/shivamp/actxdes/data_set/mice_sims/matter1in100/lightcone_129_1in100.1950\"\n"
     ]
    },
    {
     "name": "stdout",
     "output_type": "stream",
     "text": [
      "tile 953 has less objects\n",
      "tile 958 has less objects\n",
      "960\n",
      "970\n"
     ]
    },
    {
     "name": "stderr",
     "output_type": "stream",
     "text": [
      "/global/u1/s/spandey/myenv_new/lib/python2.7/site-packages/ipykernel_launcher.py:27: UserWarning: loadtxt: Empty input file: \"/global/project/projectdirs/des/shivamp/actxdes/data_set/mice_sims/matter1in100/lightcone_129_1in100.1973\"\n"
     ]
    },
    {
     "name": "stdout",
     "output_type": "stream",
     "text": [
      "tile 973 has no objects\n",
      "980\n"
     ]
    },
    {
     "name": "stderr",
     "output_type": "stream",
     "text": [
      "/global/u1/s/spandey/myenv_new/lib/python2.7/site-packages/ipykernel_launcher.py:27: UserWarning: loadtxt: Empty input file: \"/global/project/projectdirs/des/shivamp/actxdes/data_set/mice_sims/matter1in100/lightcone_129_1in100.1988\"\n"
     ]
    },
    {
     "name": "stdout",
     "output_type": "stream",
     "text": [
      "tile 988 has no objects\n",
      "990\n",
      "tile 997 has less objects\n"
     ]
    },
    {
     "name": "stderr",
     "output_type": "stream",
     "text": [
      "WARNING: AstropyDeprecationWarning: \"clobber\" was deprecated in version 2.0 and will be removed in a future version. Use argument \"overwrite\" instead. [astropy.utils.decorators]\n"
     ]
    },
    {
     "name": "stdout",
     "output_type": "stream",
     "text": [
      "0\n",
      "10\n",
      "20\n",
      "30\n",
      "40\n",
      "50\n",
      "60\n",
      "70\n",
      "80\n",
      "90\n",
      "100\n",
      "110\n",
      "120\n",
      "130\n",
      "140\n",
      "150\n",
      "160\n"
     ]
    },
    {
     "name": "stderr",
     "output_type": "stream",
     "text": [
      "/global/u1/s/spandey/myenv_new/lib/python2.7/site-packages/ipykernel_launcher.py:27: UserWarning: loadtxt: Empty input file: \"/global/project/projectdirs/des/shivamp/actxdes/data_set/mice_sims/matter1in100/lightcone_129_1in100.2163\"\n"
     ]
    },
    {
     "name": "stdout",
     "output_type": "stream",
     "text": [
      "tile 163 has no objects\n"
     ]
    },
    {
     "name": "stderr",
     "output_type": "stream",
     "text": [
      "/global/u1/s/spandey/myenv_new/lib/python2.7/site-packages/ipykernel_launcher.py:27: UserWarning: loadtxt: Empty input file: \"/global/project/projectdirs/des/shivamp/actxdes/data_set/mice_sims/matter1in100/lightcone_129_1in100.2165\"\n"
     ]
    },
    {
     "name": "stdout",
     "output_type": "stream",
     "text": [
      "tile 165 has no objects\n",
      "170\n",
      "180\n",
      "190\n",
      "200\n"
     ]
    },
    {
     "name": "stderr",
     "output_type": "stream",
     "text": [
      "/global/u1/s/spandey/myenv_new/lib/python2.7/site-packages/ipykernel_launcher.py:27: UserWarning: loadtxt: Empty input file: \"/global/project/projectdirs/des/shivamp/actxdes/data_set/mice_sims/matter1in100/lightcone_129_1in100.2204\"\n"
     ]
    },
    {
     "name": "stdout",
     "output_type": "stream",
     "text": [
      "tile 204 has no objects\n"
     ]
    },
    {
     "name": "stderr",
     "output_type": "stream",
     "text": [
      "/global/u1/s/spandey/myenv_new/lib/python2.7/site-packages/ipykernel_launcher.py:27: UserWarning: loadtxt: Empty input file: \"/global/project/projectdirs/des/shivamp/actxdes/data_set/mice_sims/matter1in100/lightcone_129_1in100.2209\"\n"
     ]
    },
    {
     "name": "stdout",
     "output_type": "stream",
     "text": [
      "tile 209 has no objects\n",
      "210\n",
      "220\n",
      "230\n",
      "240\n",
      "250\n",
      "260\n"
     ]
    },
    {
     "ename": "ValueError",
     "evalue": "could not convert string to float: **********",
     "output_type": "error",
     "traceback": [
      "\u001b[0;31m\u001b[0m",
      "\u001b[0;31mValueError\u001b[0mTraceback (most recent call last)",
      "\u001b[0;32m<ipython-input-10-c4c9c4390058>\u001b[0m in \u001b[0;36m<module>\u001b[0;34m()\u001b[0m\n\u001b[1;32m     25\u001b[0m             \u001b[0;32mprint\u001b[0m \u001b[0mj\u001b[0m\u001b[0;34m\u001b[0m\u001b[0m\n\u001b[1;32m     26\u001b[0m         \u001b[0mfilename\u001b[0m \u001b[0;34m=\u001b[0m \u001b[0mbasedir\u001b[0m \u001b[0;34m+\u001b[0m \u001b[0;34m'lightcone_129_1in100.'\u001b[0m \u001b[0;34m+\u001b[0m \u001b[0mstr\u001b[0m\u001b[0;34m(\u001b[0m\u001b[0mint\u001b[0m\u001b[0;34m(\u001b[0m\u001b[0mfext\u001b[0m\u001b[0;34m[\u001b[0m\u001b[0mj\u001b[0m\u001b[0;34m]\u001b[0m\u001b[0;34m)\u001b[0m\u001b[0;34m)\u001b[0m\u001b[0;34m\u001b[0m\u001b[0m\n\u001b[0;32m---> 27\u001b[0;31m         \u001b[0mdata\u001b[0m \u001b[0;34m=\u001b[0m \u001b[0mnp\u001b[0m\u001b[0;34m.\u001b[0m\u001b[0mloadtxt\u001b[0m\u001b[0;34m(\u001b[0m\u001b[0mfilename\u001b[0m\u001b[0;34m)\u001b[0m\u001b[0;34m\u001b[0m\u001b[0m\n\u001b[0m\u001b[1;32m     28\u001b[0m \u001b[0;34m\u001b[0m\u001b[0m\n\u001b[1;32m     29\u001b[0m         \u001b[0;32mif\u001b[0m \u001b[0mlen\u001b[0m\u001b[0;34m(\u001b[0m\u001b[0mdata\u001b[0m\u001b[0;34m)\u001b[0m \u001b[0;34m>\u001b[0m \u001b[0;36m0\u001b[0m\u001b[0;34m:\u001b[0m\u001b[0;34m\u001b[0m\u001b[0m\n",
      "\u001b[0;32m/global/u1/s/spandey/myenv_new/lib/python2.7/site-packages/numpy/lib/npyio.pyc\u001b[0m in \u001b[0;36mloadtxt\u001b[0;34m(fname, dtype, comments, delimiter, converters, skiprows, usecols, unpack, ndmin, encoding)\u001b[0m\n\u001b[1;32m   1099\u001b[0m         \u001b[0;31m# converting the data\u001b[0m\u001b[0;34m\u001b[0m\u001b[0;34m\u001b[0m\u001b[0m\n\u001b[1;32m   1100\u001b[0m         \u001b[0mX\u001b[0m \u001b[0;34m=\u001b[0m \u001b[0mNone\u001b[0m\u001b[0;34m\u001b[0m\u001b[0m\n\u001b[0;32m-> 1101\u001b[0;31m         \u001b[0;32mfor\u001b[0m \u001b[0mx\u001b[0m \u001b[0;32min\u001b[0m \u001b[0mread_data\u001b[0m\u001b[0;34m(\u001b[0m\u001b[0m_loadtxt_chunksize\u001b[0m\u001b[0;34m)\u001b[0m\u001b[0;34m:\u001b[0m\u001b[0;34m\u001b[0m\u001b[0m\n\u001b[0m\u001b[1;32m   1102\u001b[0m             \u001b[0;32mif\u001b[0m \u001b[0mX\u001b[0m \u001b[0;32mis\u001b[0m \u001b[0mNone\u001b[0m\u001b[0;34m:\u001b[0m\u001b[0;34m\u001b[0m\u001b[0m\n\u001b[1;32m   1103\u001b[0m                 \u001b[0mX\u001b[0m \u001b[0;34m=\u001b[0m \u001b[0mnp\u001b[0m\u001b[0;34m.\u001b[0m\u001b[0marray\u001b[0m\u001b[0;34m(\u001b[0m\u001b[0mx\u001b[0m\u001b[0;34m,\u001b[0m \u001b[0mdtype\u001b[0m\u001b[0;34m)\u001b[0m\u001b[0;34m\u001b[0m\u001b[0m\n",
      "\u001b[0;32m/global/u1/s/spandey/myenv_new/lib/python2.7/site-packages/numpy/lib/npyio.pyc\u001b[0m in \u001b[0;36mread_data\u001b[0;34m(chunk_size)\u001b[0m\n\u001b[1;32m   1026\u001b[0m \u001b[0;34m\u001b[0m\u001b[0m\n\u001b[1;32m   1027\u001b[0m             \u001b[0;31m# Convert each value according to its column and store\u001b[0m\u001b[0;34m\u001b[0m\u001b[0;34m\u001b[0m\u001b[0m\n\u001b[0;32m-> 1028\u001b[0;31m             \u001b[0mitems\u001b[0m \u001b[0;34m=\u001b[0m \u001b[0;34m[\u001b[0m\u001b[0mconv\u001b[0m\u001b[0;34m(\u001b[0m\u001b[0mval\u001b[0m\u001b[0;34m)\u001b[0m \u001b[0;32mfor\u001b[0m \u001b[0;34m(\u001b[0m\u001b[0mconv\u001b[0m\u001b[0;34m,\u001b[0m \u001b[0mval\u001b[0m\u001b[0;34m)\u001b[0m \u001b[0;32min\u001b[0m \u001b[0mzip\u001b[0m\u001b[0;34m(\u001b[0m\u001b[0mconverters\u001b[0m\u001b[0;34m,\u001b[0m \u001b[0mvals\u001b[0m\u001b[0;34m)\u001b[0m\u001b[0;34m]\u001b[0m\u001b[0;34m\u001b[0m\u001b[0m\n\u001b[0m\u001b[1;32m   1029\u001b[0m \u001b[0;34m\u001b[0m\u001b[0m\n\u001b[1;32m   1030\u001b[0m             \u001b[0;31m# Then pack it according to the dtype's nesting\u001b[0m\u001b[0;34m\u001b[0m\u001b[0;34m\u001b[0m\u001b[0m\n",
      "\u001b[0;32m/global/u1/s/spandey/myenv_new/lib/python2.7/site-packages/numpy/lib/npyio.pyc\u001b[0m in \u001b[0;36mfloatconv\u001b[0;34m(x)\u001b[0m\n\u001b[1;32m    744\u001b[0m         \u001b[0;32mif\u001b[0m \u001b[0;34m'0x'\u001b[0m \u001b[0;32min\u001b[0m \u001b[0mx\u001b[0m\u001b[0;34m:\u001b[0m\u001b[0;34m\u001b[0m\u001b[0m\n\u001b[1;32m    745\u001b[0m             \u001b[0;32mreturn\u001b[0m \u001b[0mfloat\u001b[0m\u001b[0;34m.\u001b[0m\u001b[0mfromhex\u001b[0m\u001b[0;34m(\u001b[0m\u001b[0mx\u001b[0m\u001b[0;34m)\u001b[0m\u001b[0;34m\u001b[0m\u001b[0m\n\u001b[0;32m--> 746\u001b[0;31m         \u001b[0;32mreturn\u001b[0m \u001b[0mfloat\u001b[0m\u001b[0;34m(\u001b[0m\u001b[0mx\u001b[0m\u001b[0;34m)\u001b[0m\u001b[0;34m\u001b[0m\u001b[0m\n\u001b[0m\u001b[1;32m    747\u001b[0m \u001b[0;34m\u001b[0m\u001b[0m\n\u001b[1;32m    748\u001b[0m     \u001b[0mtyp\u001b[0m \u001b[0;34m=\u001b[0m \u001b[0mdtype\u001b[0m\u001b[0;34m.\u001b[0m\u001b[0mtype\u001b[0m\u001b[0;34m\u001b[0m\u001b[0m\n",
      "\u001b[0;31mValueError\u001b[0m: could not convert string to float: **********"
     ]
    }
   ],
   "source": [
    "basedir = '/global/project/projectdirs/des/shivamp/actxdes/data_set/mice_sims/matter1in100/'\n",
    "\n",
    "# fext = np.linspace(0,2442,2443)\n",
    "# fext = np.linspace(0,2442,10)\n",
    "\n",
    "fext1 = np.arange(1000)\n",
    "\n",
    "fext2 = np.arange(1000,2000)\n",
    "\n",
    "fext3 = np.arange(2000,2443)\n",
    "\n",
    "for i in range(1,3):\n",
    "    if i == 0:\n",
    "        fext = fext1\n",
    "    \n",
    "    if i == 1:\n",
    "        fext = fext2\n",
    "    \n",
    "    if i == 2:\n",
    "        fext = fext3\n",
    "        \n",
    "    ra, dec, z_true = [], [], []\n",
    "    for j in range(len(fext)):\n",
    "        if np.mod(j, 10) == 0:\n",
    "            print j\n",
    "        filename = basedir + 'lightcone_129_1in100.' + str(int(fext[j]))\n",
    "        data = np.loadtxt(filename)\n",
    "\n",
    "        if len(data) > 0:\n",
    "            nobj = data.shape[0]/6\n",
    "            if nobj > 100:\n",
    "                ind = np.random.randint(0, nobj, data.shape[0])\n",
    "                if len(ra) == 0:\n",
    "                    ra = data[ind, 0]\n",
    "                    dec = data[ind, 1]\n",
    "                    z_true = data[ind, 2]\n",
    "                else:\n",
    "                    ra = np.hstack((ra,data[ind, 0]))\n",
    "                    dec = np.hstack((dec,data[ind, 1]))\n",
    "                    z_true = np.hstack((z_true,data[ind, 2]))\n",
    "                    \n",
    "            else:\n",
    "                print('tile ' + str(j) + ' has less objects')\n",
    "            \n",
    "        else:\n",
    "            print('tile ' + str(j) + ' has no objects')\n",
    "\n",
    "    c1 = fits.Column(name='RA', array=np.array(ra), format='E')\n",
    "    c2 = fits.Column(name='DEC', array=np.array(dec), format='E')\n",
    "    c3 = fits.Column(name='Z', array=np.array(z_true), format='E')\n",
    "\n",
    "    t = fits.BinTableHDU.from_columns([c1, c2, c3])\n",
    "    t.writeto( '/global/project/projectdirs/des/y3-bias/MICE_all_data/v2/matter_ra_dec_z_L3072N4096-LC129-1in600_ind_' + str(np.min(fext)) + '_' + str(np.max(fext)) + '.fits', clobber=True)    \n",
    "\n",
    "\n",
    "    \n",
    "\n",
    "\n"
   ]
  },
  {
   "cell_type": "code",
   "execution_count": 38,
   "metadata": {
    "collapsed": true,
    "jupyter": {
     "outputs_hidden": true
    }
   },
   "outputs": [
    {
     "name": "stdout",
     "output_type": "stream",
     "text": [
      "0\n",
      "> <ipython-input-38-9c7bcfc3e168>(29)<module>()\n",
      "-> data = np.loadtxt(filename)\n"
     ]
    },
    {
     "name": "stdin",
     "output_type": "stream",
     "text": [
      "(Pdb)  np.loadtxt(filename)\n"
     ]
    },
    {
     "name": "stdout",
     "output_type": "stream",
     "text": [
      "*** ValueError: could not convert string to float: **********\n"
     ]
    },
    {
     "name": "stdin",
     "output_type": "stream",
     "text": [
      "(Pdb)  filename\n"
     ]
    },
    {
     "name": "stdout",
     "output_type": "stream",
     "text": [
      "'/global/project/projectdirs/des/shivamp/actxdes/data_set/mice_sims/matter1in100/lightcone_129_1in100.2267'\n"
     ]
    },
    {
     "name": "stdin",
     "output_type": "stream",
     "text": [
      "(Pdb)  q\n"
     ]
    },
    {
     "ename": "BdbQuit",
     "evalue": "",
     "output_type": "error",
     "traceback": [
      "\u001b[0;31m\u001b[0m",
      "\u001b[0;31mBdbQuit\u001b[0mTraceback (most recent call last)",
      "\u001b[0;32m<ipython-input-38-9c7bcfc3e168>\u001b[0m in \u001b[0;36m<module>\u001b[0;34m()\u001b[0m\n\u001b[1;32m     27\u001b[0m         \u001b[0mfilename\u001b[0m \u001b[0;34m=\u001b[0m \u001b[0mbasedir\u001b[0m \u001b[0;34m+\u001b[0m \u001b[0;34m'lightcone_129_1in100.'\u001b[0m \u001b[0;34m+\u001b[0m \u001b[0mstr\u001b[0m\u001b[0;34m(\u001b[0m\u001b[0mint\u001b[0m\u001b[0;34m(\u001b[0m\u001b[0mfext\u001b[0m\u001b[0;34m[\u001b[0m\u001b[0mj\u001b[0m\u001b[0;34m]\u001b[0m\u001b[0;34m)\u001b[0m\u001b[0;34m)\u001b[0m\u001b[0;34m\u001b[0m\u001b[0m\n\u001b[1;32m     28\u001b[0m         \u001b[0mpdb\u001b[0m\u001b[0;34m.\u001b[0m\u001b[0mset_trace\u001b[0m\u001b[0;34m(\u001b[0m\u001b[0;34m)\u001b[0m\u001b[0;34m\u001b[0m\u001b[0m\n\u001b[0;32m---> 29\u001b[0;31m         \u001b[0mdata\u001b[0m \u001b[0;34m=\u001b[0m \u001b[0mnp\u001b[0m\u001b[0;34m.\u001b[0m\u001b[0mloadtxt\u001b[0m\u001b[0;34m(\u001b[0m\u001b[0mfilename\u001b[0m\u001b[0;34m)\u001b[0m\u001b[0;34m\u001b[0m\u001b[0m\n\u001b[0m\u001b[1;32m     30\u001b[0m \u001b[0;34m\u001b[0m\u001b[0m\n\u001b[1;32m     31\u001b[0m         \u001b[0;32mif\u001b[0m \u001b[0mlen\u001b[0m\u001b[0;34m(\u001b[0m\u001b[0mdata\u001b[0m\u001b[0;34m)\u001b[0m \u001b[0;34m>\u001b[0m \u001b[0;36m0\u001b[0m\u001b[0;34m:\u001b[0m\u001b[0;34m\u001b[0m\u001b[0m\n",
      "\u001b[0;32m<ipython-input-38-9c7bcfc3e168>\u001b[0m in \u001b[0;36m<module>\u001b[0;34m()\u001b[0m\n\u001b[1;32m     27\u001b[0m         \u001b[0mfilename\u001b[0m \u001b[0;34m=\u001b[0m \u001b[0mbasedir\u001b[0m \u001b[0;34m+\u001b[0m \u001b[0;34m'lightcone_129_1in100.'\u001b[0m \u001b[0;34m+\u001b[0m \u001b[0mstr\u001b[0m\u001b[0;34m(\u001b[0m\u001b[0mint\u001b[0m\u001b[0;34m(\u001b[0m\u001b[0mfext\u001b[0m\u001b[0;34m[\u001b[0m\u001b[0mj\u001b[0m\u001b[0;34m]\u001b[0m\u001b[0;34m)\u001b[0m\u001b[0;34m)\u001b[0m\u001b[0;34m\u001b[0m\u001b[0m\n\u001b[1;32m     28\u001b[0m         \u001b[0mpdb\u001b[0m\u001b[0;34m.\u001b[0m\u001b[0mset_trace\u001b[0m\u001b[0;34m(\u001b[0m\u001b[0;34m)\u001b[0m\u001b[0;34m\u001b[0m\u001b[0m\n\u001b[0;32m---> 29\u001b[0;31m         \u001b[0mdata\u001b[0m \u001b[0;34m=\u001b[0m \u001b[0mnp\u001b[0m\u001b[0;34m.\u001b[0m\u001b[0mloadtxt\u001b[0m\u001b[0;34m(\u001b[0m\u001b[0mfilename\u001b[0m\u001b[0;34m)\u001b[0m\u001b[0;34m\u001b[0m\u001b[0m\n\u001b[0m\u001b[1;32m     30\u001b[0m \u001b[0;34m\u001b[0m\u001b[0m\n\u001b[1;32m     31\u001b[0m         \u001b[0;32mif\u001b[0m \u001b[0mlen\u001b[0m\u001b[0;34m(\u001b[0m\u001b[0mdata\u001b[0m\u001b[0;34m)\u001b[0m \u001b[0;34m>\u001b[0m \u001b[0;36m0\u001b[0m\u001b[0;34m:\u001b[0m\u001b[0;34m\u001b[0m\u001b[0m\n",
      "\u001b[0;32m/global/u1/s/spandey/myenv_new/lib/python2.7/bdb.pyc\u001b[0m in \u001b[0;36mtrace_dispatch\u001b[0;34m(self, frame, event, arg)\u001b[0m\n\u001b[1;32m     47\u001b[0m             \u001b[0;32mreturn\u001b[0m \u001b[0;31m# None\u001b[0m\u001b[0;34m\u001b[0m\u001b[0m\n\u001b[1;32m     48\u001b[0m         \u001b[0;32mif\u001b[0m \u001b[0mevent\u001b[0m \u001b[0;34m==\u001b[0m \u001b[0;34m'line'\u001b[0m\u001b[0;34m:\u001b[0m\u001b[0;34m\u001b[0m\u001b[0m\n\u001b[0;32m---> 49\u001b[0;31m             \u001b[0;32mreturn\u001b[0m \u001b[0mself\u001b[0m\u001b[0;34m.\u001b[0m\u001b[0mdispatch_line\u001b[0m\u001b[0;34m(\u001b[0m\u001b[0mframe\u001b[0m\u001b[0;34m)\u001b[0m\u001b[0;34m\u001b[0m\u001b[0m\n\u001b[0m\u001b[1;32m     50\u001b[0m         \u001b[0;32mif\u001b[0m \u001b[0mevent\u001b[0m \u001b[0;34m==\u001b[0m \u001b[0;34m'call'\u001b[0m\u001b[0;34m:\u001b[0m\u001b[0;34m\u001b[0m\u001b[0m\n\u001b[1;32m     51\u001b[0m             \u001b[0;32mreturn\u001b[0m \u001b[0mself\u001b[0m\u001b[0;34m.\u001b[0m\u001b[0mdispatch_call\u001b[0m\u001b[0;34m(\u001b[0m\u001b[0mframe\u001b[0m\u001b[0;34m,\u001b[0m \u001b[0marg\u001b[0m\u001b[0;34m)\u001b[0m\u001b[0;34m\u001b[0m\u001b[0m\n",
      "\u001b[0;32m/global/u1/s/spandey/myenv_new/lib/python2.7/bdb.pyc\u001b[0m in \u001b[0;36mdispatch_line\u001b[0;34m(self, frame)\u001b[0m\n\u001b[1;32m     66\u001b[0m         \u001b[0;32mif\u001b[0m \u001b[0mself\u001b[0m\u001b[0;34m.\u001b[0m\u001b[0mstop_here\u001b[0m\u001b[0;34m(\u001b[0m\u001b[0mframe\u001b[0m\u001b[0;34m)\u001b[0m \u001b[0;32mor\u001b[0m \u001b[0mself\u001b[0m\u001b[0;34m.\u001b[0m\u001b[0mbreak_here\u001b[0m\u001b[0;34m(\u001b[0m\u001b[0mframe\u001b[0m\u001b[0;34m)\u001b[0m\u001b[0;34m:\u001b[0m\u001b[0;34m\u001b[0m\u001b[0m\n\u001b[1;32m     67\u001b[0m             \u001b[0mself\u001b[0m\u001b[0;34m.\u001b[0m\u001b[0muser_line\u001b[0m\u001b[0;34m(\u001b[0m\u001b[0mframe\u001b[0m\u001b[0;34m)\u001b[0m\u001b[0;34m\u001b[0m\u001b[0m\n\u001b[0;32m---> 68\u001b[0;31m             \u001b[0;32mif\u001b[0m \u001b[0mself\u001b[0m\u001b[0;34m.\u001b[0m\u001b[0mquitting\u001b[0m\u001b[0;34m:\u001b[0m \u001b[0;32mraise\u001b[0m \u001b[0mBdbQuit\u001b[0m\u001b[0;34m\u001b[0m\u001b[0m\n\u001b[0m\u001b[1;32m     69\u001b[0m         \u001b[0;32mreturn\u001b[0m \u001b[0mself\u001b[0m\u001b[0;34m.\u001b[0m\u001b[0mtrace_dispatch\u001b[0m\u001b[0;34m\u001b[0m\u001b[0m\n\u001b[1;32m     70\u001b[0m \u001b[0;34m\u001b[0m\u001b[0m\n",
      "\u001b[0;31mBdbQuit\u001b[0m: "
     ]
    }
   ],
   "source": [
    "import pdb\n",
    "basedir = '/global/project/projectdirs/des/shivamp/actxdes/data_set/mice_sims/matter1in100/'\n",
    "\n",
    "# fext = np.linspace(0,2442,2443)\n",
    "# fext = np.linspace(0,2442,10)\n",
    "\n",
    "fext1 = np.arange(1000)\n",
    "\n",
    "fext2 = np.arange(1000,2000)\n",
    "\n",
    "fext3 = np.arange(2267,2270)\n",
    "\n",
    "for i in range(2,3):\n",
    "    if i == 0:\n",
    "        fext = fext1\n",
    "    \n",
    "    if i == 1:\n",
    "        fext = fext2\n",
    "    \n",
    "    if i == 2:\n",
    "        fext = fext3\n",
    "        \n",
    "    ra, dec, z_true = [], [], []\n",
    "    for j in range(len(fext)):\n",
    "        \n",
    "        print j\n",
    "        filename = basedir + 'lightcone_129_1in100.' + str(int(fext[j]))\n",
    "        pdb.set_trace()\n",
    "        data = np.loadtxt(filename)\n",
    "\n",
    "        if len(data) > 0:\n",
    "            nobj = data.shape[0]/6\n",
    "            if nobj > 100:\n",
    "                ind = np.random.randint(0, nobj, data.shape[0])\n",
    "                if len(ra) == 0:\n",
    "                    ra = data[ind, 0]\n",
    "                    dec = data[ind, 1]\n",
    "                    z_true = data[ind, 2]\n",
    "                else:\n",
    "                    ra = np.hstack((ra,data[ind, 0]))\n",
    "                    dec = np.hstack((dec,data[ind, 1]))\n",
    "                    z_true = np.hstack((z_true,data[ind, 2]))\n",
    "                    \n",
    "            else:\n",
    "                print('tile ' + str(j) + ' has less objects')\n",
    "            \n",
    "        else:\n",
    "            print('tile ' + str(j) + ' has no objects')\n",
    "\n",
    "    c1 = fits.Column(name='RA', array=np.array(ra), format='E')\n",
    "    c2 = fits.Column(name='DEC', array=np.array(dec), format='E')\n",
    "    c3 = fits.Column(name='Z', array=np.array(z_true), format='E')\n",
    "\n",
    "    t = fits.BinTableHDU.from_columns([c1, c2, c3])\n",
    "#     t.writeto( '/global/project/projectdirs/des/y3-bias/MICE_all_data/v2/matter_ra_dec_z_L3072N4096-LC129-1in600_ind_' + str(np.min(fext)) + '_' + str(np.max(fext)) + '.fits', clobber=True)    \n",
    "\n",
    "\n",
    "    \n",
    "\n",
    "\n",
    "\n"
   ]
  },
  {
   "cell_type": "code",
   "execution_count": 2,
   "metadata": {},
   "outputs": [],
   "source": [
    "mcat1 = fits.open('/global/project/projectdirs/des/y3-bias/MICE_all_data/v2/matter_ra_dec_z_L3072N4096-LC129-1in300_ind_0_999.fits')\n",
    "mcat2 = fits.open('/global/project/projectdirs/des/y3-bias/MICE_all_data/v2/matter_ra_dec_z_L3072N4096-LC129-1in300_ind_1000_1999.fits')\n",
    "mcat3 = fits.open('/global/project/projectdirs/des/y3-bias/MICE_all_data/v2/matter_ra_dec_z_L3072N4096-LC129-1in300_ind_2000_2442.fits')\n",
    "\n",
    "\n"
   ]
  },
  {
   "cell_type": "code",
   "execution_count": 3,
   "metadata": {},
   "outputs": [],
   "source": [
    "ra1, dec1, z1 = mcat1[1].data['RA'],mcat1[1].data['DEC'],mcat1[1].data['Z']\n",
    "\n",
    "ra2, dec2, z2 = mcat2[1].data['RA'],mcat2[1].data['DEC'],mcat2[1].data['Z']\n",
    "\n",
    "ra3, dec3, z3 = mcat3[1].data['RA'],mcat3[1].data['DEC'],mcat3[1].data['Z']\n"
   ]
  },
  {
   "cell_type": "code",
   "execution_count": 5,
   "metadata": {},
   "outputs": [],
   "source": [
    "ra_f, dec_f, z_f = 90.-np.hstack((ra1, ra2, ra3)), np.hstack((dec1, dec2, dec3)), np.hstack((z1, z2, z3))\n",
    "\n",
    "\n"
   ]
  },
  {
   "cell_type": "code",
   "execution_count": 8,
   "metadata": {},
   "outputs": [
    {
     "name": "stderr",
     "output_type": "stream",
     "text": [
      "WARNING: AstropyDeprecationWarning: \"clobber\" was deprecated in version 2.0 and will be removed in a future version. Use argument \"overwrite\" instead. [astropy.utils.decorators]\n"
     ]
    }
   ],
   "source": [
    "c1 = fits.Column(name='RA', array=np.array(ra_f), format='E')\n",
    "c2 = fits.Column(name='DEC', array=np.array(dec_f), format='E')\n",
    "c3 = fits.Column(name='Z', array=np.array(z_f), format='E')\n",
    "\n",
    "t = fits.BinTableHDU.from_columns([c1, c2, c3])\n",
    "t.writeto( '/global/project/projectdirs/des/y3-bias/MICE_all_data/v2/matter_ra_dec_z_L3072N4096-LC129-1in300' + '.fits', clobber=True)    \n",
    "\n",
    "\n",
    "\n",
    "\n"
   ]
  },
  {
   "cell_type": "code",
   "execution_count": 14,
   "metadata": {},
   "outputs": [
    {
     "name": "stderr",
     "output_type": "stream",
     "text": [
      "WARNING: AstropyDeprecationWarning: \"clobber\" was deprecated in version 2.0 and will be removed in a future version. Use argument \"overwrite\" instead. [astropy.utils.decorators]\n"
     ]
    }
   ],
   "source": [
    "ind = np.unique(np.random.randint(0, len(ra_f)/10., len(ra_f)))\n",
    "\n",
    "c1 = fits.Column(name='RA', array=np.array(ra_f[ind]), format='E')\n",
    "c2 = fits.Column(name='DEC', array=np.array(dec_f[ind]), format='E')\n",
    "c3 = fits.Column(name='Z', array=np.array(z_f[ind]), format='E')\n",
    "\n",
    "t = fits.BinTableHDU.from_columns([c1, c2, c3])\n",
    "t.writeto( '/global/project/projectdirs/des/y3-bias/MICE_all_data/v2/matter_ra_dec_z_L3072N4096-LC129-1in3000' + '.fits', clobber=True)    \n",
    "\n",
    "\n",
    "\n",
    "\n",
    "\n"
   ]
  },
  {
   "cell_type": "code",
   "execution_count": 38,
   "metadata": {},
   "outputs": [
    {
     "name": "stderr",
     "output_type": "stream",
     "text": [
      "/global/u1/s/spandey/myenv_new/lib/python2.7/site-packages/ipykernel_launcher.py:20: RuntimeWarning: divide by zero encountered in log10\n"
     ]
    },
    {
     "data": {
      "text/plain": [
       "<matplotlib.figure.Figure at 0x2aab2cf3d250>"
      ]
     },
     "metadata": {},
     "output_type": "display_data"
    },
    {
     "data": {
      "image/png": "[encoded data removed]",
      "text/plain": [
       "<matplotlib.figure.Figure at 0x2aab33074b50>"
      ]
     },
     "metadata": {
      "needs_background": "light"
     },
     "output_type": "display_data"
    }
   ],
   "source": [
    "import healpy as hp\n",
    "def eq2ang(ra, dec):\n",
    "    phi = ra * np.pi / 180.\n",
    "    theta = (np.pi / 2.) - dec * (np.pi / 180.)\n",
    "    return theta, phi\n",
    "\n",
    "nside = 512\n",
    "# ind = np.unique(np.random.randint(0, len(ra_f), 100*nside**2))\n",
    "ind = np.where(z_f < 1.0)[0]\n",
    "\n",
    "theta_m, phi_m = eq2ang(ra_f[ind], dec_f[ind])\n",
    "# theta_m, phi_m = eq2ang(ra_f, dec_f)\n",
    "ind_m_f = hp.ang2pix(nside, theta_m, phi_m)\n",
    "ind_vals, ind_count = np.unique(ind_m_f, return_counts=True)\n",
    "map_new = np.zeros(hp.nside2npix(nside))\n",
    "for j in range(len(ind_vals)):\n",
    "    ind_val = ind_vals[j]\n",
    "    map_new[ind_val] = ind_count[j]\n",
    "plt.figure()\n",
    "hp.mollview(np.log10(map_new), title='New matter particles, log scaled, NSIDE=' + str(nside))\n",
    "plt.savefig('new_mice_matter_cat_nside_' + str(nside) + '.png',dpi=480)\n",
    "\n"
   ]
  },
  {
   "cell_type": "code",
   "execution_count": 39,
   "metadata": {},
   "outputs": [
    {
     "name": "stdout",
     "output_type": "stream",
     "text": [
      "50865143 112701570\n"
     ]
    }
   ],
   "source": [
    "cat_old = fits.open('/global/project/projectdirs/des/shivamp/actxdes/data_set/mice_sims/process_cats/matter_ra_dec_r_z_bin_jk_L3072N4096-LC129-1in700_njkradec_180_njkz_1.fits')\n",
    "\n",
    "ra_o, dec_o, z_o = cat_old[1].data['RA'], cat_old[1].data['DEC'], cat_old[1].data['Z']\n",
    "\n",
    "print len(ra_o),len(ra_f)\n",
    "\n",
    "\n"
   ]
  },
  {
   "cell_type": "code",
   "execution_count": 40,
   "metadata": {},
   "outputs": [],
   "source": [
    "# ind = np.unique(np.random.randint(0, len(ra_o), 100*nside**2))\n",
    "# nside = 32\n",
    "ind = np.where(z_o < 1.0)[0]\n",
    "\n",
    "theta_m, phi_m = eq2ang(ra_o[ind], dec_o[ind])\n",
    "# theta_m, phi_m = eq2ang(ra_o, dec_o)\n",
    "ind_m_f = hp.ang2pix(nside, theta_m, phi_m)\n",
    "ind_vals, ind_count = np.unique(ind_m_f, return_counts=True)\n",
    "map_old = np.zeros(hp.nside2npix(nside))\n",
    "for j in range(len(ind_vals)):\n",
    "    ind_val = ind_vals[j]\n",
    "    map_old[ind_val] = ind_count[j]\n",
    "\n",
    "\n",
    "\n",
    "\n"
   ]
  },
  {
   "cell_type": "code",
   "execution_count": 41,
   "metadata": {},
   "outputs": [
    {
     "name": "stderr",
     "output_type": "stream",
     "text": [
      "/global/u1/s/spandey/myenv_new/lib/python2.7/site-packages/ipykernel_launcher.py:2: RuntimeWarning: divide by zero encountered in log10\n",
      "  \n",
      "/global/u1/s/spandey/myenv_new/lib/python2.7/site-packages/ipykernel_launcher.py:6: RuntimeWarning: divide by zero encountered in log10\n",
      "  \n"
     ]
    },
    {
     "data": {
      "text/plain": [
       "<matplotlib.figure.Figure at 0x2aab333f2b50>"
      ]
     },
     "metadata": {},
     "output_type": "display_data"
    },
    {
     "data": {
      "image/png": "[encoded data removed]",
      "text/plain": [
       "<matplotlib.figure.Figure at 0x2aab333f2650>"
      ]
     },
     "metadata": {
      "needs_background": "light"
     },
     "output_type": "display_data"
    },
    {
     "data": {
      "text/plain": [
       "<matplotlib.figure.Figure at 0x2aab2d09fb50>"
      ]
     },
     "metadata": {},
     "output_type": "display_data"
    },
    {
     "data": {
      "image/png": "[encoded data removed]",
      "text/plain": [
       "<matplotlib.figure.Figure at 0x2aab2d1b3150>"
      ]
     },
     "metadata": {
      "needs_background": "light"
     },
     "output_type": "display_data"
    }
   ],
   "source": [
    "plt.figure()\n",
    "hp.mollview(np.log10(map_old/np.max(map_old) ), title='Old matter particles, log scaled, NSIDE=' + str(nside), min=-1, max=0.0)\n",
    "plt.savefig('old_mice_matter_cat_nside_' + str(nside) + '.png',dpi=480)\n",
    "\n",
    "plt.figure()\n",
    "hp.mollview(np.log10(map_new/np.max(map_new)), title='New matter particles, log scaled, NSIDE=' + str(nside), min=-1, max=0.0)\n",
    "plt.savefig('new_mice_matter_cat_nside_' + str(nside) + '.png',dpi=480)\n",
    "\n"
   ]
  },
  {
   "cell_type": "code",
   "execution_count": 42,
   "metadata": {},
   "outputs": [],
   "source": [
    "import pymaster as nmt\n",
    "\n",
    "mask = np.zeros(hp.nside2npix(nside))\n",
    "ind_pos = np.where(map_new > 0)[0]\n",
    "mask[ind_pos] = 1\n",
    "mask_nmt = nmt.mask_apodization(mask,1.0, apotype=\"Smooth\")\n",
    "\n",
    "\n"
   ]
  },
  {
   "cell_type": "code",
   "execution_count": 43,
   "metadata": {},
   "outputs": [
    {
     "data": {
      "image/png": "[encoded data removed]",
      "text/plain": [
       "<matplotlib.figure.Figure at 0x2aaad9c3b3d0>"
      ]
     },
     "metadata": {
      "needs_background": "light"
     },
     "output_type": "display_data"
    }
   ],
   "source": [
    "hp.mollview(mask)\n",
    "\n"
   ]
  },
  {
   "cell_type": "code",
   "execution_count": 44,
   "metadata": {},
   "outputs": [],
   "source": [
    "f_old = nmt.NmtField(mask_nmt, [map_old])\n",
    "f_new = nmt.NmtField(mask_nmt, [map_new])\n",
    "\n",
    "\n"
   ]
  },
  {
   "cell_type": "code",
   "execution_count": 45,
   "metadata": {},
   "outputs": [],
   "source": [
    "b = nmt.NmtBin(nside, nlb=4)\n",
    "\n"
   ]
  },
  {
   "cell_type": "code",
   "execution_count": 46,
   "metadata": {},
   "outputs": [],
   "source": [
    "cl_old_old = nmt.compute_full_master(f_old, f_old, b)\n",
    "\n",
    "# print cl_old_old\n"
   ]
  },
  {
   "cell_type": "code",
   "execution_count": 47,
   "metadata": {},
   "outputs": [],
   "source": [
    "cl_new_new = nmt.compute_full_master(f_new, f_new, b)\n",
    "\n",
    "# print cl_new_new\n",
    "\n",
    "\n"
   ]
  },
  {
   "cell_type": "code",
   "execution_count": 48,
   "metadata": {},
   "outputs": [],
   "source": [
    "cl_old_new = nmt.compute_full_master(f_old, f_new, b)\n",
    "\n",
    "# print cl_old_new\n",
    "\n",
    "\n"
   ]
  },
  {
   "cell_type": "code",
   "execution_count": 49,
   "metadata": {},
   "outputs": [],
   "source": [
    "ell_arr = b.get_effective_ells()\n",
    "\n",
    "\n"
   ]
  },
  {
   "cell_type": "code",
   "execution_count": 30,
   "metadata": {
    "collapsed": true,
    "jupyter": {
     "outputs_hidden": true
    }
   },
   "outputs": [
    {
     "data": {
      "text/plain": [
       "array([[ 1.66454426e+04, -3.24800605e+03,  7.30399430e+02,\n",
       "        -1.50830716e+02,  3.90816200e+01, -6.87727132e+00,\n",
       "         3.49297587e+00,  2.29278105e-01,  8.19944510e-01,\n",
       "         2.13059920e-01,  5.15376760e-01,  3.40421636e-02,\n",
       "         4.04614182e-01,  1.40422631e-01,  1.45302915e-01,\n",
       "         3.68491857e-02,  3.97940333e-02,  6.40679378e-02,\n",
       "         8.43638732e-02, -8.63600517e-02,  9.05362310e-02,\n",
       "         6.54412966e-02, -4.26146263e-02, -2.38621843e-02,\n",
       "         4.62118578e-02,  4.96249407e-03,  3.43425339e-02,\n",
       "         3.14106742e-02,  5.68331364e-03,  3.82067390e-02,\n",
       "         7.56413843e-03,  2.42540352e-02,  2.46761228e-02,\n",
       "         2.38314181e-02,  9.20920002e-03,  2.67008005e-02,\n",
       "         3.93621177e-03,  2.41266458e-02,  1.41055496e-02,\n",
       "         1.51333534e-02,  8.55374535e-03,  1.46796887e-02,\n",
       "         1.32501846e-02,  1.37701707e-02,  1.42680321e-02,\n",
       "         6.99977632e-03,  7.99858123e-03,  1.37599370e-02,\n",
       "         1.13161104e-02,  9.23255044e-03,  7.46323884e-03,\n",
       "         1.42011358e-02,  8.39977009e-03,  9.13432179e-03,\n",
       "         9.16877449e-03,  1.17152125e-02,  9.85047032e-03,\n",
       "         8.42601262e-03,  8.25206694e-03,  1.03950815e-02,\n",
       "         9.22485432e-03,  6.72476112e-03,  8.12848217e-03,\n",
       "         5.82773287e-03,  8.40707475e-03,  9.25200639e-03,\n",
       "         8.49163724e-03,  5.49465148e-03,  5.37243452e-03,\n",
       "         7.80768040e-03,  5.88304821e-03,  6.91094379e-03,\n",
       "         6.67870592e-03,  4.41822327e-03,  4.93324688e-03,\n",
       "         4.93932453e-03,  6.28968753e-03,  5.70611564e-03,\n",
       "         3.64778191e-03,  7.99026780e-03,  4.43176028e-03,\n",
       "         5.48300390e-03,  3.97355447e-03,  6.18867437e-03,\n",
       "         4.01623408e-03,  6.00854011e-03,  5.24786191e-03,\n",
       "         3.19836319e-03,  5.31916673e-03,  5.10052008e-03,\n",
       "         4.10047221e-03,  5.69524944e-03,  2.64980947e-03,\n",
       "         4.58852267e-03,  3.40056331e-03,  3.17728966e-03,\n",
       "         4.09701036e-03,  2.96731829e-03,  2.90385054e-03,\n",
       "         4.46224705e-03,  3.23096475e-03,  3.01026146e-03,\n",
       "         3.13071628e-03,  2.96685226e-03,  4.10434825e-03,\n",
       "         3.80007967e-03,  3.34656892e-03,  2.65995257e-03,\n",
       "         2.87685176e-03,  2.58367559e-03,  2.25392717e-03,\n",
       "         4.03617055e-03,  2.70352325e-03,  2.69305089e-03,\n",
       "         3.30389398e-03,  2.92665712e-03,  2.37683695e-03,\n",
       "         2.78969949e-03,  2.54622762e-03,  2.40878609e-03,\n",
       "         2.22888917e-03,  2.36477853e-03,  2.93114396e-03,\n",
       "         2.26101368e-03,  2.35882299e-03,  2.32361436e-03,\n",
       "         2.47864026e-03,  2.87780840e-03,  2.33918705e-03,\n",
       "         2.90201348e-03,  2.74569681e-03,  2.23052401e-03,\n",
       "         2.80286433e-03,  2.19480366e-03,  2.05531929e-03,\n",
       "         1.95470489e-03,  1.60773773e-03,  2.29437984e-03,\n",
       "         1.89994872e-03,  1.58371975e-03,  1.60625865e-03,\n",
       "         1.93700163e-03,  2.46309232e-03,  1.32322185e-03,\n",
       "         2.43249578e-03,  1.70706163e-03,  2.58126811e-03,\n",
       "         1.94156674e-03,  1.61788463e-03,  1.81258942e-03,\n",
       "         2.12436004e-03,  1.86088048e-03,  1.32529115e-03,\n",
       "         1.97658062e-03,  1.62029901e-03,  1.62443534e-03,\n",
       "         1.37835957e-03,  2.07250178e-03,  1.55665125e-03,\n",
       "         1.53629442e-03,  1.67500050e-03,  1.63752264e-03,\n",
       "         1.39228010e-03,  1.64841345e-03,  1.53057223e-03,\n",
       "         1.21830396e-03,  1.55586010e-03,  1.68131518e-03,\n",
       "         1.35213798e-03,  1.90215202e-03,  1.17000796e-03,\n",
       "         1.02247898e-03,  1.42481790e-03,  1.25591296e-03,\n",
       "         1.60064792e-03,  8.89034099e-04,  1.47710864e-03,\n",
       "         1.36468423e-03,  1.16156481e-03,  1.29053484e-03,\n",
       "         1.14800468e-03,  1.36988283e-03,  1.24234926e-03,\n",
       "         1.11109335e-03,  1.10645491e-03,  9.09039531e-04,\n",
       "         1.24460345e-03,  1.37018958e-03,  1.28381687e-03,\n",
       "         1.16269705e-03,  1.01804899e-03,  1.38099886e-03,\n",
       "         1.17385916e-03,  9.96083522e-04,  1.03788812e-03,\n",
       "         8.12558476e-04,  8.95026888e-04,  8.10277482e-04,\n",
       "         1.30337486e-03,  9.73893883e-04,  8.17877915e-04,\n",
       "         1.23531755e-03,  1.08054834e-03,  1.17056799e-03,\n",
       "         1.21084812e-03,  9.58977290e-04,  7.97913639e-04,\n",
       "         8.89172559e-04,  8.77270615e-04,  1.01851775e-03,\n",
       "         9.28602523e-04,  6.74863024e-04,  8.75564587e-04,\n",
       "         8.26629038e-04,  1.10412906e-03,  1.00615626e-03,\n",
       "         1.07445428e-03,  7.05126506e-04,  9.58367145e-04,\n",
       "         9.65013709e-04,  9.45794210e-04,  9.48564489e-04,\n",
       "         9.30866425e-04,  9.36340538e-04,  5.18402602e-04,\n",
       "         9.01278877e-04,  9.47507617e-04,  8.40543489e-04,\n",
       "         1.02599911e-03,  9.23275208e-04,  9.14918225e-04,\n",
       "         7.71070151e-04,  9.21025953e-04,  7.52501238e-04,\n",
       "         1.04438939e-03,  6.23758205e-04,  9.23105039e-04,\n",
       "         7.41411381e-04,  7.88425456e-04,  6.25717654e-04,\n",
       "         7.36389622e-04,  7.76320927e-04,  7.12063797e-04,\n",
       "         9.04825418e-04,  6.40527253e-04,  7.99555656e-04,\n",
       "         7.78242269e-04,  7.36063789e-04,  8.74437540e-04,\n",
       "         7.51960967e-04,  7.24839853e-04,  4.41617601e-04,\n",
       "         7.94869921e-04,  6.39914690e-04,  7.53540775e-04,\n",
       "         5.46554169e-04,  8.64142063e-04,  7.31355730e-04,\n",
       "         5.96504136e-04,  6.08173745e-04,  5.40570405e-04,\n",
       "         6.03932811e-04,  6.06441614e-04,  7.81824805e-04,\n",
       "         5.03326659e-04,  6.33906612e-04,  7.40158104e-04,\n",
       "         5.58436344e-04,  7.35634025e-04,  6.51718131e-04,\n",
       "         4.49644465e-04,  6.30269508e-04,  6.07993395e-04,\n",
       "         5.09969216e-04,  5.24571120e-04,  6.33507158e-04,\n",
       "         6.17388235e-04,  5.03175843e-04,  4.94650144e-04,\n",
       "         5.28928734e-04,  5.88762331e-04,  4.28517138e-04,\n",
       "         6.87679316e-04,  6.45426978e-04,  5.84520728e-04,\n",
       "         5.45232905e-04,  5.16794393e-04,  5.65854796e-04,\n",
       "         5.30283782e-04,  4.30383824e-04,  4.08001374e-04,\n",
       "         6.12906271e-04,  3.16319980e-04,  5.46872233e-04,\n",
       "         4.61069571e-04,  4.64384576e-04,  5.81668811e-04,\n",
       "         4.80552224e-04,  4.96042639e-04,  5.60661400e-04,\n",
       "         4.34484386e-04,  4.54315717e-04,  4.63378852e-04,\n",
       "         5.41473762e-04,  4.52966915e-04,  3.91965706e-04,\n",
       "         4.25816534e-04,  5.19979443e-04,  3.89024588e-04,\n",
       "         6.25577828e-04,  4.62959486e-04,  4.63421712e-04,\n",
       "         4.82610252e-04,  5.43117506e-04,  4.06344152e-04,\n",
       "         4.82059912e-04,  4.60067646e-04,  4.69586296e-04,\n",
       "         4.05631128e-04,  4.25890742e-04,  4.23608086e-04,\n",
       "         4.70539788e-04,  4.33235128e-04,  3.67310189e-04,\n",
       "         5.17954661e-04,  3.92912944e-04,  4.49855824e-04,\n",
       "         4.54520423e-04,  3.65036377e-04,  3.72471587e-04,\n",
       "         4.43607241e-04,  4.00243124e-04,  4.19650123e-04,\n",
       "         2.94270272e-04,  3.97017743e-04,  4.01058196e-04,\n",
       "         5.09157500e-04,  3.08839166e-04,  4.63663944e-04,\n",
       "         3.24408846e-04,  4.56173716e-04,  3.63383633e-04,\n",
       "         3.92693559e-04,  3.63139506e-04,  3.58042898e-04,\n",
       "         3.16140895e-04,  3.62246071e-04,  3.74728583e-04,\n",
       "         4.08069444e-04,  3.53504132e-04,  4.36359241e-04,\n",
       "         2.14369016e-04,  2.85138503e-04,  4.99851882e-04,\n",
       "         2.86893622e-04,  4.69812161e-04,  3.45902323e-04,\n",
       "         3.91076939e-04,  3.35316998e-04,  4.76361639e-04,\n",
       "         2.87986299e-04,  3.17591409e-04,  3.35095823e-04,\n",
       "         2.82201104e-04,  3.97310286e-04,  3.36283894e-04,\n",
       "         3.84644586e-04,  3.93120233e-04,  2.69419031e-04,\n",
       "         3.37310242e-04,  3.72535784e-04,  3.71307724e-04,\n",
       "         3.81914138e-04,  3.53506992e-04,  3.36039899e-04,\n",
       "         3.72773711e-04,  2.00655121e-04,  3.63866559e-04,\n",
       "         3.19225676e-04,  3.44838443e-04,  3.08288232e-04,\n",
       "         3.25970114e-04,  4.50164360e-04]])"
      ]
     },
     "execution_count": 30,
     "metadata": {},
     "output_type": "execute_result"
    }
   ],
   "source": [
    "cl_old_new\n",
    "\n",
    "\n"
   ]
  },
  {
   "cell_type": "code",
   "execution_count": 50,
   "metadata": {},
   "outputs": [
    {
     "name": "stderr",
     "output_type": "stream",
     "text": [
      "/global/u1/s/spandey/myenv_new/lib/python2.7/site-packages/ipykernel_launcher.py:3: RuntimeWarning: invalid value encountered in sqrt\n",
      "  This is separate from the ipykernel package so we can avoid doing imports until\n"
     ]
    },
    {
     "data": {
      "image/png": "[encoded data removed]",
      "text/plain": [
       "<matplotlib.figure.Figure at 0x2aab333f2990>"
      ]
     },
     "metadata": {
      "needs_background": "light"
     },
     "output_type": "display_data"
    }
   ],
   "source": [
    "fig, ax = plt.subplots(1,1, figsize = (10,8))\n",
    "\n",
    "ax.plot(ell_arr, (cl_old_new[0])/(np.sqrt(cl_old_old[0] * cl_new_new[0])), 'r-')\n",
    "\n",
    "ax.set_yscale('log')\n",
    "ax.set_xscale('log')\n",
    "ax.set_ylim(-1,1)\n",
    "plt.xlabel(r'$\\ell$', fontsize=22)\n",
    "plt.ylabel(r'$\\frac{C^{\\rm old,new}_\\ell}{\\sqrt{C^{\\rm new,new}_\\ell C^{\\rm old,old}_\\ell}}$', fontsize=26)\n",
    "# ax.legend(fontsize=20)\n",
    "plt.tick_params(axis='both', which='major', labelsize=15)\n",
    "plt.tick_params(axis='both', which='minor', labelsize=15)\n",
    "\n",
    "plt.tight_layout()\n",
    "plt.savefig('cross_corr_comp.png')\n",
    "\n",
    "\n",
    "\n",
    "\n"
   ]
  },
  {
   "cell_type": "code",
   "execution_count": 37,
   "metadata": {},
   "outputs": [
    {
     "data": {
      "text/plain": [
       "6144"
      ]
     },
     "execution_count": 37,
     "metadata": {},
     "output_type": "execute_result"
    }
   ],
   "source": [
    "(12*64**2)/8\n"
   ]
  },
  {
   "cell_type": "code",
   "execution_count": null,
   "metadata": {},
   "outputs": [],
   "source": [
    "\n",
    "\n",
    "\n"
   ]
  }
 ],
 "metadata": {
  "kernelspec": {
   "display_name": "myenv_new_jupyter",
   "language": "python",
   "name": "myenv_new_jupyter"
  },
  "language_info": {
   "codemirror_mode": {
    "name": "ipython",
    "version": 2
   },
   "file_extension": ".py",
   "mimetype": "text/x-python",
   "name": "python",
   "nbconvert_exporter": "python",
   "pygments_lexer": "ipython2",
   "version": "2.7.15"
  }
 },
 "nbformat": 4,
 "nbformat_minor": 4
}
