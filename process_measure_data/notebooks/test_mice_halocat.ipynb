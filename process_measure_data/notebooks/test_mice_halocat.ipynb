{
 "cells": [
  {
   "cell_type": "code",
   "execution_count": 1,
   "metadata": {},
   "outputs": [
    {
     "name": "stdin",
     "output_type": "stream",
     "text": [
      "Once deleted, variables cannot be recovered. Proceed (y/[n])?  y\n"
     ]
    }
   ],
   "source": [
    "\n",
    "%reset\n",
    "import sys, os\n",
    "import numpy as np\n",
    "import matplotlib.pyplot as plt\n",
    "import scipy.integrate as integrate\n",
    "import random\n",
    "import treecorr\n",
    "from astropy.io import fits\n",
    "import pickle as pk\n",
    "import os.path\n",
    "from os import path\n",
    "import mycosmo as cosmodef\n",
    "import scipy as sp\n",
    "import scipy.interpolate as interpolate\n",
    "from scipy.integrate import quad\n",
    "from scipy.optimize import fsolve\n",
    "import scipy.optimize as op\n",
    "\n"
   ]
  },
  {
   "cell_type": "code",
   "execution_count": 2,
   "metadata": {},
   "outputs": [],
   "source": [
    "\n",
    "class general_funcs:\n",
    "\n",
    "    def __init__(self, cosmo_params):\n",
    "        h = cosmo_params['H0'] / 100.\n",
    "        cosmo_func = cosmodef.mynew_cosmo(h, cosmo_params['Om0'], cosmo_params['Ob0'], cosmo_params['ns'],\n",
    "                                          cosmo_params['sigma8'])\n",
    "        self.cosmo = cosmo_func\n",
    "\n",
    "    def get_Dcom(self, zf):\n",
    "        c = 3 * 10 ** 5\n",
    "        Omega_m, Omega_L = self.cosmo.Om0, 1. - self.cosmo.Om0\n",
    "        res1 = sp.integrate.quad(lambda z: (c / 100) * (1 / (np.sqrt(Omega_L + Omega_m * ((1 + z) ** 3)))), 0, zf)\n",
    "        Dcom = res1[0]\n",
    "        return Dcom\n",
    "\n",
    "    def get_Dcom_array(self,zarray):\n",
    "        Omega_m = self.cosmo.Om0\n",
    "        Omega_L = 1. - Omega_m\n",
    "        c = 3 * 10 ** 5\n",
    "        Dcom_array = np.zeros(len(zarray))\n",
    "        for j in range(len(zarray)):\n",
    "            zf = zarray[j]\n",
    "            res1 = sp.integrate.quad(lambda z: (c / 100) * (1 / (np.sqrt(Omega_L + Omega_m * ((1 + z) ** 3)))), 0, zf)\n",
    "            Dcom = res1[0]\n",
    "            Dcom_array[j] = Dcom\n",
    "        return Dcom_array\n",
    "\n",
    "    def get_Hz(self,zarray):\n",
    "        Omega_m = self.cosmo.Om0\n",
    "        Omega_L = 1 - Omega_m\n",
    "        Ez = np.sqrt(Omega_m * (1 + zarray) ** 3 + Omega_L)\n",
    "        Hz = 100. * Ez\n",
    "        return Hz\n",
    "\n",
    "    def get_diff(self, zf, chi):\n",
    "        return chi - self.get_Dcom(zf)\n",
    "\n",
    "    def root_find(self, init_x, chi):\n",
    "        nll = lambda *args: self.get_diff(*args)\n",
    "        result = op.root(nll, np.array([init_x]), args=chi, options={'maxfev': 50}, tol=0.01)\n",
    "        return result.x[0]\n",
    "\n",
    "    def get_z_from_chi(self, chi):\n",
    "        valf = self.root_find(0., chi)\n",
    "        return valf\n",
    "    \n",
    "    \n",
    "cosmo_params_dict = {'flat': True, 'H0': 70.0, 'Om0': 0.25, 'Ob0': 0.044, 'sigma8': 0.8, 'ns': 0.95}\n",
    "gnf = general_funcs(cosmo_params_dict)\n",
    "z_array = np.linspace(0, 1.5, 10000)\n",
    "chi_array = np.zeros(len(z_array))\n",
    "for j in range(len(z_array)):\n",
    "    chi_array[j] = gnf.get_Dcom(z_array[j])\n",
    "chi_interp = interpolate.interp1d(z_array, chi_array)\n",
    "\n",
    "\n",
    "chi_array = np.linspace(0, 4000, 50000)\n",
    "z_array = np.zeros(len(chi_array))\n",
    "for j in range(len(z_array)):\n",
    "    z_array[j] = gnf.get_z_from_chi(chi_array[j])\n",
    "z_interp = interpolate.interp1d(chi_array, z_array)\n",
    "\n",
    "\n",
    "\n"
   ]
  },
  {
   "cell_type": "code",
   "execution_count": 22,
   "metadata": {},
   "outputs": [
    {
     "data": {
      "text/plain": [
       "XTENSION= 'BINTABLE'           / binary table extension                         \n",
       "BITPIX  =                    8 / array data type                                \n",
       "NAXIS   =                    2 / number of array dimensions                     \n",
       "NAXIS1  =                   24 / length of dimension 1                          \n",
       "NAXIS2  =            155554576 / length of dimension 2                          \n",
       "PCOUNT  =                    0 / number of group parameters                     \n",
       "GCOUNT  =                    1 / number of groups                               \n",
       "TFIELDS =                    5 / number of table fields                         \n",
       "TTYPE1  = 'unique_halo_id'                                                      \n",
       "TFORM1  = 'K       '                                                            \n",
       "TTYPE2  = 'xhalo   '                                                            \n",
       "TFORM2  = 'E       '                                                            \n",
       "TTYPE3  = 'zhalo   '                                                            \n",
       "TFORM3  = 'E       '                                                            \n",
       "TTYPE4  = 'yhalo   '                                                            \n",
       "TFORM4  = 'E       '                                                            \n",
       "TTYPE5  = 'lmhalo  '                                                            \n",
       "TFORM5  = 'E       '                                                            \n",
       "COMMENT This catalog has been produced on behalf of Shivam Pandey (shivamp@sas.u\n",
       "COMMENT penn.edu) with ID #6144.                                                \n",
       "COMMENT It took 0:00:47 (h:mm:ss) to complete and the SQL issued was:           \n",
       "COMMENT                                                                         \n",
       "COMMENT SELECT `unique_halo_id`, `xhalo`, `zhalo`, `yhalo`, `lmhalo`            \n",
       "COMMENT FROM micecatv2_0_view                                                   \n",
       "COMMENT WHERE `lmhalo` &gt; 12                                                  \n",
       "COMMENT                                                                         \n",
       "COMMENT Please, remember to follow the citation guide if you use any of this dat\n",
       "COMMENT a in your work.                                                         \n",
       "COMMENT                                                                         \n",
       "COMMENT Generated by CosmoHub (https://cosmohub.pic.es) on 2019-10-30 04:27:58.6\n",
       "COMMENT 07000 UTC.                                                              "
      ]
     },
     "execution_count": 22,
     "metadata": {},
     "output_type": "execute_result"
    }
   ],
   "source": [
    "halo_new = fits.open('/global/project/projectdirs/des/shivamp/actxdes/data_set/mice_sims/6144.fits')\n",
    "halo_new[1].header\n",
    "\n"
   ]
  },
  {
   "cell_type": "code",
   "execution_count": 25,
   "metadata": {},
   "outputs": [
    {
     "data": {
      "text/plain": [
       "(40674733, 155554576)"
      ]
     },
     "execution_count": 25,
     "metadata": {},
     "output_type": "execute_result"
    }
   ],
   "source": [
    "halo_id_all, xhalo_all, yhalo_all, zhalo_all = (halo_new[1].data['unique_halo_id']), (halo_new[1].data['xhalo']), (halo_new[1].data['yhalo']), (halo_new[1].data['zhalo'])\n",
    "\n",
    "halo_id_unique, ind_unique = np.unique(halo_id_all, return_index=True)\n",
    "\n",
    "len(halo_id_unique), len(halo_id_all)\n"
   ]
  },
  {
   "cell_type": "code",
   "execution_count": 34,
   "metadata": {},
   "outputs": [
    {
     "data": {
      "text/plain": [
       "(12.0001, 15.2683)"
      ]
     },
     "execution_count": 34,
     "metadata": {},
     "output_type": "execute_result"
    }
   ],
   "source": [
    "lm_halo_all = (halo_new[1].data['lmhalo'])\n",
    "lm_halo_uid = lm_halo_all[ind_unique]\n",
    "\n",
    "np.min(lm_halo_uid), np.max(lm_halo_uid)\n",
    "\n"
   ]
  },
  {
   "cell_type": "code",
   "execution_count": 69,
   "metadata": {},
   "outputs": [],
   "source": [
    "xhalo_uid, yhalo_uid, zhalo_uid = xhalo_all[ind_unique], yhalo_all[ind_unique], zhalo_all[ind_unique]\n",
    "\n",
    "ind_nz = np.where( (xhalo_uid > 0) & (yhalo_uid > 0) & (zhalo_uid > 0)  )[0]\n",
    "\n",
    "xhalo_uid, yhalo_uid, zhalo_uid, lm_halo_uid = xhalo_uid[ind_nz], yhalo_uid[ind_nz], zhalo_uid[ind_nz], lm_halo_uid[ind_nz]\n",
    "\n"
   ]
  },
  {
   "cell_type": "code",
   "execution_count": 33,
   "metadata": {},
   "outputs": [
    {
     "data": {
      "text/plain": [
       "2312"
      ]
     },
     "execution_count": 33,
     "metadata": {},
     "output_type": "execute_result"
    }
   ],
   "source": [
    "\n",
    "ind_msel = np.where( (lm_halo > 14.5) & (lm_halo < 15.0)  )[0]\n",
    "\n",
    "len(ind_msel)\n"
   ]
  },
  {
   "cell_type": "code",
   "execution_count": 88,
   "metadata": {},
   "outputs": [
    {
     "name": "stdout",
     "output_type": "stream",
     "text": [
      "1251095\n"
     ]
    }
   ],
   "source": [
    "ds = 32\n",
    "ind_rand = np.unique(np.random.randint(0, len(xhalo_uid), int(len(xhalo_uid)/ds)))\n",
    "print(len(ind_rand))\n",
    "\n",
    "if ds == 1:\n",
    "    xhalo, yhalo, zhalo, lm_halo = xhalo_uid, yhalo_uid, zhalo_uid, lm_halo_uid \n",
    "else:\n",
    "    xhalo, yhalo, zhalo, lm_halo = xhalo_uid[ind_rand], yhalo_uid[ind_rand], zhalo_uid[ind_rand], lm_halo_uid[ind_rand]\n",
    "\n",
    "\n",
    "ra_h = (180/np.pi)*np.arctan(xhalo/yhalo) \n",
    "dec_h= 90.-(180/np.pi)*np.arctan(np.sqrt(xhalo**2 + yhalo**2)/zhalo)\n",
    "chi_h = np.sqrt(xhalo**2 + yhalo**2 + zhalo**2)\n",
    "z_h = z_interp(chi_h)\n",
    "\n",
    "\n"
   ]
  },
  {
   "cell_type": "code",
   "execution_count": 89,
   "metadata": {},
   "outputs": [
    {
     "name": "stderr",
     "output_type": "stream",
     "text": [
      "WARNING: AstropyDeprecationWarning: \"clobber\" was deprecated in version 2.0 and will be removed in a future version. Use argument \"overwrite\" instead. [astropy.utils.decorators]\n"
     ]
    }
   ],
   "source": [
    "save_dir= '/global/project/projectdirs/des/shivamp/actxdes/data_set/mice_sims/'\n",
    "\n",
    "\n",
    "save_filename = 'MICEv2_halos_Mlow_1e12_ds_' + str(ds) + '.fits'\n",
    "    \n",
    "c1 = fits.Column(name='ra', array=ra_h, format='E')\n",
    "c2 = fits.Column(name='dec', array=dec_h, format='E')\n",
    "c3 = fits.Column(name='z', array=z_h, format='E')\n",
    "c4 = fits.Column(name='log_m', format='E', array=lm_halo)\n",
    "t = fits.BinTableHDU.from_columns([c1, c2, c3, c4])\n",
    "t.writeto(save_dir + save_filename, clobber=True)\n",
    "\n"
   ]
  },
  {
   "cell_type": "code",
   "execution_count": 73,
   "metadata": {},
   "outputs": [
    {
     "data": {
      "text/plain": [
       "40674723"
      ]
     },
     "execution_count": 73,
     "metadata": {},
     "output_type": "execute_result"
    }
   ],
   "source": [
    "len(ra_h)\n",
    "\n"
   ]
  },
  {
   "cell_type": "code",
   "execution_count": null,
   "metadata": {},
   "outputs": [],
   "source": [
    "ra_h = (180/np.pi)*np.arctan(xg/yg) \n",
    "dec_h= 90.-(180/np.pi)*np.arctan(np.sqrt(xg**2 + yg**2)/zg)\n",
    "chi_h = np.sqrt(xg**2 + yg**2 + zg**2)\n",
    "zc_s = z_interp(chi_s)\n",
    "\n"
   ]
  },
  {
   "cell_type": "code",
   "execution_count": 13,
   "metadata": {},
   "outputs": [],
   "source": [
    "xg, yg, zg = halo_new[1].data['xgal'],halo_new[1].data['ygal'],halo_new[1].data['zgal']\n",
    "\n",
    "ra_g, dec_g, zc_gal = halo_new[1].data['ra_gal'],halo_new[1].data['dec_gal'],halo_new[1].data['z_cgal']\n",
    "\n",
    "\n",
    "\n"
   ]
  },
  {
   "cell_type": "code",
   "execution_count": 15,
   "metadata": {},
   "outputs": [
    {
     "name": "stderr",
     "output_type": "stream",
     "text": [
      "/global/u1/s/spandey/myenv_new/lib/python2.7/site-packages/ipykernel_launcher.py:1: RuntimeWarning: divide by zero encountered in divide\n",
      "  \"\"\"Entry point for launching an IPython kernel.\n",
      "/global/u1/s/spandey/myenv_new/lib/python2.7/site-packages/ipykernel_launcher.py:1: RuntimeWarning: invalid value encountered in arctan\n",
      "  \"\"\"Entry point for launching an IPython kernel.\n",
      "/global/u1/s/spandey/myenv_new/lib/python2.7/site-packages/ipykernel_launcher.py:2: RuntimeWarning: divide by zero encountered in divide\n",
      "  \n",
      "/global/u1/s/spandey/myenv_new/lib/python2.7/site-packages/ipykernel_launcher.py:2: RuntimeWarning: invalid value encountered in arctan\n",
      "  \n"
     ]
    }
   ],
   "source": [
    "ra_s = (180/np.pi)*np.arctan(xg/yg) \n",
    "dec_s= 90.-(180/np.pi)*np.arctan(np.sqrt(xg**2 + yg**2)/zg)\n",
    "chi_s = np.sqrt(xg**2 + yg**2 + zg**2)\n",
    "zc_s = z_interp(chi_s)\n",
    "\n"
   ]
  },
  {
   "cell_type": "code",
   "execution_count": 11,
   "metadata": {},
   "outputs": [
    {
     "data": {
      "text/plain": [
       "array([ 3.48639587e-04, -4.06372070e-07,  3.63418579e-07, ...,\n",
       "        1.46278687e-04,  3.86387451e-04,  3.41129883e-04])"
      ]
     },
     "execution_count": 11,
     "metadata": {},
     "output_type": "execute_result"
    }
   ],
   "source": [
    "ra_s - ra_g\n",
    "\n"
   ]
  },
  {
   "cell_type": "code",
   "execution_count": 9,
   "metadata": {},
   "outputs": [
    {
     "data": {
      "text/plain": [
       "array([ 1.74187012e-04, -1.85351563e-06, -1.15405274e-06, ...,\n",
       "       -1.12997803e-04, -3.13363281e-04,  2.89309082e-05])"
      ]
     },
     "execution_count": 9,
     "metadata": {},
     "output_type": "execute_result"
    }
   ],
   "source": [
    "dec_s - dec_g\n",
    "\n",
    "\n"
   ]
  },
  {
   "cell_type": "code",
   "execution_count": 16,
   "metadata": {},
   "outputs": [
    {
     "data": {
      "text/plain": [
       "array([-0.0002286 , -0.00015826, -0.00021178, ..., -0.00029645,\n",
       "       -0.00013817, -0.00015506])"
      ]
     },
     "execution_count": 16,
     "metadata": {},
     "output_type": "execute_result"
    }
   ],
   "source": [
    "zc_s - zc_gal\n",
    "\n"
   ]
  },
  {
   "cell_type": "code",
   "execution_count": null,
   "metadata": {},
   "outputs": [],
   "source": []
  }
 ],
 "metadata": {
  "kernelspec": {
   "display_name": "myenv_new_jupyter",
   "language": "python",
   "name": "myenv_new_jupyter"
  },
  "language_info": {
   "codemirror_mode": {
    "name": "ipython",
    "version": 2
   },
   "file_extension": ".py",
   "mimetype": "text/x-python",
   "name": "python",
   "nbconvert_exporter": "python",
   "pygments_lexer": "ipython2",
   "version": "2.7.15"
  }
 },
 "nbformat": 4,
 "nbformat_minor": 4
}
