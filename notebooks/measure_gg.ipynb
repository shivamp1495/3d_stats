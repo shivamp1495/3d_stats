{
 "cells": [
  {
   "cell_type": "code",
   "execution_count": 8,
   "metadata": {},
   "outputs": [
    {
     "name": "stdin",
     "output_type": "stream",
     "text": [
      "Once deleted, variables cannot be recovered. Proceed (y/[n])?  y\n"
     ]
    }
   ],
   "source": [
    "%reset\n",
    "import sys, os\n",
    "import numpy as np\n",
    "import matplotlib\n",
    "matplotlib.use('Agg')\n",
    "import matplotlib.pyplot as plt\n",
    "import scipy.integrate as integrate\n",
    "import random\n",
    "import healpy as hp\n",
    "from astropy.io import fits\n",
    "from astropy.coordinates import SkyCoord\n",
    "from numpy.random import rand\n",
    "import pickle as pk\n",
    "import matplotlib.cm as cm\n",
    "import scipy.interpolate as interpolate\n",
    "import pdb\n",
    "import time\n",
    "import multiprocessing as mp\n",
    "sys.path.insert(0,'/global/project/projectdirs/des/shivamp/cosmosis/y3kp-bias-model/3d_stats/process_measure_data/')\n",
    "import correlate_gg_gm_3d_class as corr_class\n",
    "import argparse\n",
    "import subprocess\n",
    "\n"
   ]
  },
  {
   "cell_type": "code",
   "execution_count": 16,
   "metadata": {},
   "outputs": [
    {
     "name": "stdout",
     "output_type": "stream",
     "text": [
      "Collecting treecorr\n",
      "\u001b[?25l  Downloading https://files.pythonhosted.org/packages/b1/1f/6940f05e3ee7b529631c9982dc42e3361d0cf850f7eefe0e7ed741f3d8cc/TreeCorr-4.0.8.tar.gz (1.4MB)\n",
      "\u001b[K     |████████████████████████████████| 1.4MB 529kB/s eta 0:00:01\n",
      "\u001b[?25hRequirement already satisfied: numpy in /global/common/cori_cle7/software/python/3.7-anaconda-2019.07/lib/python3.7/site-packages (from treecorr) (1.16.4)\n",
      "Requirement already satisfied: cffi in /global/common/cori_cle7/software/python/3.7-anaconda-2019.07/lib/python3.7/site-packages (from treecorr) (1.12.3)\n",
      "Requirement already satisfied: pyyaml in /global/common/cori_cle7/software/python/3.7-anaconda-2019.07/lib/python3.7/site-packages (from treecorr) (5.1.1)\n",
      "Collecting LSSTDESC.Coord>=1.1 (from treecorr)\n",
      "  Using cached https://files.pythonhosted.org/packages/9d/39/ad17697571c9aed36d20ed9ae0a135e3a734fb7f15a8605f92bf27c3b02c/LSSTDESC.Coord-1.2.0.tar.gz\n",
      "Requirement already satisfied: pycparser in /global/common/cori_cle7/software/python/3.7-anaconda-2019.07/lib/python3.7/site-packages (from cffi->treecorr) (2.19)\n",
      "Requirement already satisfied: future in /global/common/cori_cle7/software/python/3.7-anaconda-2019.07/lib/python3.7/site-packages (from LSSTDESC.Coord>=1.1->treecorr) (0.17.1)\n",
      "Building wheels for collected packages: treecorr, LSSTDESC.Coord\n",
      "  Building wheel for treecorr (setup.py) ... \u001b[?25ldone\n",
      "\u001b[?25h  Stored in directory: /global/homes/s/spandey/.cache/pip/wheels/7d/a3/14/993af3a77cd0fcde7a2a9de9f10cbdcc18732c00e0c7a0d30e\n",
      "  Building wheel for LSSTDESC.Coord (setup.py) ... \u001b[?25ldone\n",
      "\u001b[?25h  Stored in directory: /global/homes/s/spandey/.cache/pip/wheels/d9/42/df/7a3b7e20b78e159b1937f20ee97d05332310893dd69c74a92a\n",
      "Successfully built treecorr LSSTDESC.Coord\n",
      "Installing collected packages: LSSTDESC.Coord, treecorr\n",
      "Successfully installed LSSTDESC.Coord-1.2.0 treecorr-4.0.8\n"
     ]
    }
   ],
   "source": [
    "!pip install treecorr --user\n"
   ]
  },
  {
   "cell_type": "code",
   "execution_count": 15,
   "metadata": {},
   "outputs": [
    {
     "name": "stdout",
     "output_type": "stream",
     "text": [
      "Traceback (most recent call last):\n",
      "  File \"/global/project/projectdirs/des/shivamp/cosmosis/y3kp-bias-model/3d_stats/process_measure_data/correlate_gg_gm_3d_funcs_mice_halos.py\", line 19, in <module>\n",
      "    import correlate_gg_gm_3d_class as corr_class\n",
      "  File \"/global/project/projectdirs/des/shivamp/cosmosis/y3kp-bias-model/3d_stats/process_measure_data/correlate_gg_gm_3d_class.py\", line 9, in <module>\n",
      "    import treecorr\n",
      "ModuleNotFoundError: No module named 'treecorr'\n"
     ]
    }
   ],
   "source": [
    "# filename_torun = '/global/u1/s/spandey/cosmosis_exp/cosmosis/y3kp-bias-model/3d_stats/correlate_gg_gm_3d_funcs_DC2.py'\n",
    "\n",
    "# %run \n",
    "!python '/global/project/projectdirs/des/shivamp/cosmosis/y3kp-bias-model/3d_stats/process_measure_data/correlate_gg_gm_3d_funcs_mice_halos.py' --bin 1 --lm_min 12.0 --lm_max 12.5\n",
    "\n",
    "# subprocess.call([\"python\", \"correlate_gg_gm_3d_funcs_mice_halos.py\", \"--bin\", \"1\", \"--lm_min\",\"12.0\", \"--lm_max\", \"12.5\"])\n",
    "\n",
    "# os.system(\" /global/project/projectdirs/des/shivamp/cosmosis/y3kp-bias-model/3d_stats/process_measure_data/correlate_gg_gm_3d_funcs_mice_halos.py --bin 1 --lm_min 12.0 --lm_max 12.5 \")\n",
    "\n"
   ]
  },
  {
   "cell_type": "code",
   "execution_count": 35,
   "metadata": {},
   "outputs": [
    {
     "name": "stdout",
     "output_type": "stream",
     "text": [
      "nthreads are  64\n",
      "loading g\n",
      "loading rg\n",
      "number of galaxies :  474181\n",
      "number of galaxies randoms:  5783255\n",
      "setting up the class\n",
      "number of galaxies  474181\n",
      "number of galaxy randoms  5783255\n",
      "correlating gg\n",
      "correlating g g \n",
      "time for correlating g g  38.867024183273315\n",
      "correlating g rg \n",
      "time for correlating g rg  224.9460370540619\n",
      "correlating rg rg \n",
      "time for correlating rg rg  1904.2609822750092\n",
      "r_gg [ 0.89470851  1.09902473  1.35295475  1.66469357  2.04883277  2.51772595\n",
      "  3.09854053  3.81045761  4.68653914  5.76305596  7.08619815  8.7140413\n",
      " 10.7157537  13.1775704  16.20369956 19.9247183  24.50035836 30.12491453\n",
      " 37.0409747  45.54449529]\n",
      "xi_gg [0.67615144 0.47979659 0.34598059 0.22804152 0.15256142 0.11556394\n",
      " 0.0828853  0.0616504  0.04675362 0.03666117 0.0318923  0.02352686\n",
      " 0.01774248 0.01235757 0.00924122 0.00727667 0.00632999 0.00613485\n",
      " 0.0059006  0.00368301]\n",
      "processing jk 0\n",
      "processing jk 5\n",
      "processing jk 10\n",
      "processing jk 15\n",
      "processing jk 20\n",
      "processing jk 25\n",
      "processing jk 30\n",
      "processing jk 35\n",
      "processing jk 40\n",
      "processing jk 45\n",
      "processing jk 50\n",
      "processing jk 55\n",
      "making plots\n"
     ]
    }
   ],
   "source": [
    "\n",
    "\n",
    "!python '/global/u1/s/spandey/cosmosis_exp/cosmosis/y3kp-bias-model/3d_stats/process_measure_data/correlate_gg_gm_3d_funcs_DC2.py' --bin 2\n",
    "\n"
   ]
  },
  {
   "cell_type": "code",
   "execution_count": 36,
   "metadata": {},
   "outputs": [
    {
     "name": "stdout",
     "output_type": "stream",
     "text": [
      "nthreads are  64\n",
      "loading g\n",
      "loading rg\n",
      "number of galaxies :  835004\n",
      "number of galaxies randoms:  10078303\n",
      "setting up the class\n",
      "number of galaxies  835004\n",
      "number of galaxy randoms  10078303\n",
      "correlating gg\n",
      "correlating g g \n",
      "time for correlating g g  73.87008261680603\n",
      "correlating g rg \n",
      "time for correlating g rg  432.0315227508545\n",
      "correlating rg rg \n",
      "time for correlating rg rg  3534.4707803726196\n",
      "r_gg [ 0.89571583  1.10100243  1.35450624  1.66591985  2.0486327   2.51930595\n",
      "  3.10007248  3.81122348  4.68594053  5.7636838   7.08681837  8.71451109\n",
      " 10.71598264 13.17721814 16.20356057 19.92543827 24.5010202  30.12640221\n",
      " 37.04318429 45.54734783]\n",
      "xi_gg [0.60757669 0.38658487 0.28585183 0.20407273 0.13490526 0.10048507\n",
      " 0.07633506 0.05787356 0.04691811 0.03768427 0.02802271 0.02256048\n",
      " 0.01792184 0.01222203 0.00906967 0.00743534 0.00687755 0.00587883\n",
      " 0.00539255 0.00440814]\n",
      "processing jk 0\n",
      "processing jk 5\n",
      "processing jk 10\n",
      "processing jk 15\n",
      "processing jk 20\n",
      "processing jk 25\n",
      "processing jk 30\n",
      "processing jk 35\n",
      "processing jk 40\n",
      "processing jk 45\n",
      "processing jk 50\n",
      "processing jk 55\n",
      "making plots\n"
     ]
    }
   ],
   "source": [
    "\n",
    "!python '/global/u1/s/spandey/cosmosis_exp/cosmosis/y3kp-bias-model/3d_stats/process_measure_data/correlate_gg_gm_3d_funcs_DC2.py' --bin 3\n",
    "\n"
   ]
  },
  {
   "cell_type": "code",
   "execution_count": 4,
   "metadata": {},
   "outputs": [],
   "source": [
    "import camb\n",
    "from camb import model\n",
    "import scipy as sp\n",
    "sys.path.insert(0, '/global/u1/s/spandey/actxdes/sz_forecasts/helper/')\n",
    "import mycosmo as cosmodef\n",
    "import LSS_funcs as hmf\n",
    "%load_ext autoreload\n",
    "%autoreload 2\n",
    "\n",
    "cosmo_params = {'flat': True, 'H0': 71.0, 'Om0': 0.265, 'Ob0': 0.0448, 'sigma8': 0.8, 'ns': 0.963}\n",
    "\n",
    "\n",
    "h = cosmo_params['H0'] / 100.\n",
    "cosmo_func = cosmodef.mynew_cosmo(h, cosmo_params['Om0'], cosmo_params['Ob0'], cosmo_params['ns'],cosmo_params['sigma8'])\n",
    "\n",
    "\n",
    "k_array = np.logspace(-4, 2, 30000)\n",
    "Pklinz_z0_test = hmf.get_Pklinz(0.0, k_array, current_cosmo=cosmo_func)\n",
    "sig8h = hmf.sigRz0(8., k_array, Pklinz_z0_test, window='tophat')\n",
    "sig8_ratio = ((0.8 / sig8h) ** 2)\n",
    "Pklinz0 = sig8_ratio * Pklinz_z0_test\n",
    "Pklin = sig8_ratio * hmf.get_Pklinz(0.22, k_array, current_cosmo=cosmo_func)\n",
    "\n",
    "\n",
    "\n"
   ]
  },
  {
   "cell_type": "code",
   "execution_count": 5,
   "metadata": {},
   "outputs": [],
   "source": [
    "Pk_nl = hmf.Pkhalofit(k_array, Pklinz0, Pklin, 0.15, current_cosmo=cosmo_func)\n",
    "\n"
   ]
  },
  {
   "cell_type": "code",
   "execution_count": null,
   "metadata": {},
   "outputs": [],
   "source": [
    "\n",
    "\n"
   ]
  },
  {
   "cell_type": "code",
   "execution_count": 6,
   "metadata": {},
   "outputs": [],
   "source": [
    "fig, ax = plt.subplots(1, 1, figsize=(8, 6))\n",
    "\n",
    "ax.plot(k_array,Pklin,color='black', label=r'$P_{lin}(z=0)$')\n",
    "\n",
    "ax.plot(k_array,Pk_nl,color='blue', label=r'$P_{nl}(z=0)$')\n",
    "\n",
    "ax.set_yscale('log')\n",
    "\n",
    "\n",
    "\n",
    "ax.legend(fontsize=15, frameon=False)\n",
    "ax.set_xlabel('k  (h/Mpc)', size=20)\n",
    "ax.set_ylabel(r'$P(k)$', size=20)\n",
    "ax.set_xscale('log')\n",
    "\n",
    "\n",
    "plt.tick_params(axis='both', which='major', labelsize=15)\n",
    "plt.tick_params(axis='both', which='minor', labelsize=15)\n",
    "plt.tight_layout()\n",
    "# plot_save_name = '/global/project/projectdirs/m1727/shivamp_lsst/data_set/dc2_v1.0/measurements/Pklin.png'\n",
    "# plt.savefig(plot_save_name)\n"
   ]
  },
  {
   "cell_type": "code",
   "execution_count": 7,
   "metadata": {},
   "outputs": [],
   "source": [
    "\n",
    "def get_corrfunc_realspace(r, karr, Pkarr):\n",
    "    toint = (karr ** 2) * Pkarr * (np.sin(karr * r) / (karr * r))\n",
    "    val = sp.integrate.simps(toint, karr)\n",
    "    valf = (1 / (2 * np.pi ** 2)) * val\n",
    "    return valf\n",
    "\n",
    "r_array = np.logspace(np.log10(0.8),np.log10(50),15)\n",
    "k_full = np.logspace(-5,3,100000)\n",
    "\n",
    "\n",
    "xi_lin = np.zeros(len(r_array))\n",
    "\n",
    "for j in range(len(r_array)):\n",
    "    Pk_interp = sp.interpolate.interp1d(np.log(k_array),np.log(Pklin),fill_value = 'extrapolate')\n",
    "    Pk_full = np.exp(Pk_interp(np.log(k_full)))\n",
    "    xi_lin[j] = get_corrfunc_realspace(r_array[j], k_full, Pk_full)\n"
   ]
  },
  {
   "cell_type": "code",
   "execution_count": 8,
   "metadata": {},
   "outputs": [],
   "source": [
    "xi_nl = np.zeros(len(r_array))\n",
    "\n",
    "\n",
    "for j in range(len(r_array)):\n",
    "    Pk_interp = sp.interpolate.interp1d(np.log(k_array),np.log(Pk_nl),fill_value = 'extrapolate')\n",
    "    Pk_full = np.exp(Pk_interp(np.log(k_full)))\n",
    "    xi_nl[j] = get_corrfunc_realspace(r_array[j], k_full, Pk_full)\n",
    "    \n",
    "    "
   ]
  },
  {
   "cell_type": "code",
   "execution_count": 17,
   "metadata": {},
   "outputs": [],
   "source": [
    "bin1f = '/global/project/projectdirs/m1727/shivamp_lsst/data_set/dc2_v1.0/measurements/gg_3dcorr_r_0.8_50.0_nr_20_zbin_1_jk_True_njkradec_60_njkz_1_dsg_8_dsm_2.pk'\n",
    "output_data_gg1 = pk.load(open(bin1f, \"rb\"))\n",
    "\n",
    "bin2f = '/global/project/projectdirs/m1727/shivamp_lsst/data_set/dc2_v1.0/measurements/gg_3dcorr_r_0.8_50.0_nr_20_zbin_2_jk_True_njkradec_60_njkz_1_dsg_8_dsm_2.pk'\n",
    "output_data_gg2 = pk.load(open(bin2f, \"rb\"))\n",
    "\n",
    "# bin3f = '/global/project/projectdirs/m1727/shivamp_lsst/data_set/dc2_v1.0/measurements/gg_3dcorr_r_0.8_50.0_nr_20_zbin_3_jk_True_njkradec_60_njkz_1_dsg_80_dsm_2.pk'\n",
    "# output_data_gg3 = pk.load(open(bin3f, \"rb\"))\n"
   ]
  },
  {
   "cell_type": "code",
   "execution_count": 18,
   "metadata": {},
   "outputs": [],
   "source": [
    "fig, ax = plt.subplots(1, 1, figsize=(8, 6))\n",
    "\n",
    "ax.errorbar((1.02**0)*output_data_gg1['r_gg'], output_data_gg1['xi_gg_full'], output_data_gg1['sig'], color='red', label=r'$0.15<z<0.3$', marker='*', linestyle='')\n",
    "\n",
    "ax.errorbar((1.02**1)*output_data_gg2['r_gg'], output_data_gg2['xi_gg_full'], output_data_gg2['sig'], color='blue', label=r'$0.3<z<0.45$', marker='*', linestyle='')\n",
    "\n",
    "# ax.errorbar((1.02**2)*output_data_gg3['r_gg'], output_data_gg3['xi_gg_full'], output_data_gg3['sig'], color='orange', label=r'$0.45<z<0.6$', marker='*', linestyle='')\n",
    "\n",
    "ax.plot(r_array,xi_lin,color='black', label=r'$\\xi_{lin}(z=0)$')\n",
    "\n",
    "ax.plot(r_array,xi_nl,color='magenta', label=r'$\\xi_{nl}(z=0)$')\n",
    "\n",
    "ax.set_yscale('log')\n",
    "\n",
    "\n",
    "ax.legend(fontsize=15, frameon=False)\n",
    "ax.set_xlabel('r  (Mpc/h)', size=20)\n",
    "ax.set_ylabel(r'$\\xi$', size=20)\n",
    "ax.set_xscale('log')\n",
    "\n",
    "\n",
    "plt.tick_params(axis='both', which='major', labelsize=15)\n",
    "plt.tick_params(axis='both', which='minor', labelsize=15)\n",
    "plt.tight_layout()\n",
    "plot_save_name = '/global/project/projectdirs/m1727/shivamp_lsst/data_set/dc2_v1.0/measurements/gg_measure_bin_1_2.png'\n",
    "plt.savefig(plot_save_name)\n"
   ]
  },
  {
   "cell_type": "code",
   "execution_count": null,
   "metadata": {},
   "outputs": [],
   "source": []
  }
 ],
 "metadata": {
  "kernelspec": {
   "display_name": "myenv_new_jupyter",
   "language": "python",
   "name": "myenv_new_jupyter"
  },
  "language_info": {
   "codemirror_mode": {
    "name": "ipython",
    "version": 2
   },
   "file_extension": ".py",
   "mimetype": "text/x-python",
   "name": "python",
   "nbconvert_exporter": "python",
   "pygments_lexer": "ipython2",
   "version": "2.7.15"
  }
 },
 "nbformat": 4,
 "nbformat_minor": 4
}
