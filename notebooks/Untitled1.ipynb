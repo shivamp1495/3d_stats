{
 "cells": [
  {
   "cell_type": "code",
   "execution_count": 1,
   "metadata": {},
   "outputs": [],
   "source": [
    "import pickle as pk\n"
   ]
  },
  {
   "cell_type": "code",
   "execution_count": 3,
   "metadata": {},
   "outputs": [],
   "source": [
    "lmhalo_min = 13.0\n",
    "lmhalo_max = 13.5\n",
    "minrad = 0.8\n",
    "maxrad = 50.0\n",
    "nrad = 20\n",
    "binval = 2\n",
    "do_jk = True\n",
    "njk_radec = 180\n",
    "njk_z = 1\n",
    "ds_g_inp = 1\n",
    "ds_g = 1\n",
    "ds_m_inp = 1\n",
    "ds_m = 1\n",
    "save_dir_gg_gm = '/global/project/projectdirs/des/shivamp/actxdes/data_set/mice_sims/measurements/halo_' + str(lmhalo_min) + '_' + str(lmhalo_max) + '/'\n",
    "\n",
    "save_filename_gg_mm = 'gg_mm_lmhalo_' + str(lmhalo_min) + '_' + str(lmhalo_max) + '_3dcorr_r_' + str(minrad) + '_' + str(maxrad) + '_nr_' + str(nrad) + '_zbin_' + str(\n",
    "    binval) + '_jk_' + str(do_jk) + '_njkradec_' + str(njk_radec) + '_njkz_' + str(njk_z) + '_dsg_' + str(\n",
    "    ds_g_inp*ds_g) + '_dsm_' + str(ds_m_inp*ds_m) + '_th_nz_hrand.pk'\n",
    "save_filename_gm_mm = 'gm_mm_lmhalo_' + str(lmhalo_min) + '_' + str(lmhalo_max) + '_3dcorr_r_' + str(minrad) + '_' + str(maxrad) + '_nr_' + str(nrad) + '_zbin_' + str(\n",
    "    binval) + '_jk_' + str(do_jk) + '_njkradec_' + str(njk_radec) + '_njkz_' + str(njk_z) + '_dsg_' + str(\n",
    "    ds_g_inp*ds_g) + '_dsm_' + str(ds_m_inp*ds_m) + '_th_nz_hrand.pk'\n",
    "output_data_gg_mm = pk.load(open(save_dir_gg_gm + save_filename_gg_mm, \"rb\"))\n",
    "output_data_gm_mm = pk.load(open(save_dir_gg_gm + save_filename_gm_mm, \"rb\"))\n",
    "\n"
   ]
  },
  {
   "cell_type": "code",
   "execution_count": 4,
   "metadata": {},
   "outputs": [],
   "source": [
    "save_filename_gg_mm = 'gg_mm_lmhalo_' + str(lmhalo_min) + '_' + str(lmhalo_max) + '_3dcorr_r_' + str(minrad) + '_' + str(maxrad) + '_nr_' + str(nrad) + '_zbin_' + str(\n",
    "    binval) + '_jk_' + str(do_jk) + '_njkradec_' + str(njk_radec) + '_njkz_' + str(njk_z) + '_dsg_' + str(\n",
    "    ds_g_inp*ds_g) + '_dsm_' + str(ds_m_inp*ds_m) + '_th_nz_hrand2.pk'\n",
    "save_filename_gm_mm = 'gm_mm_lmhalo_' + str(lmhalo_min) + '_' + str(lmhalo_max) + '_3dcorr_r_' + str(minrad) + '_' + str(maxrad) + '_nr_' + str(nrad) + '_zbin_' + str(\n",
    "    binval) + '_jk_' + str(do_jk) + '_njkradec_' + str(njk_radec) + '_njkz_' + str(njk_z) + '_dsg_' + str(\n",
    "    ds_g_inp*ds_g) + '_dsm_' + str(ds_m_inp*ds_m) + '_th_nz_hrand2.pk'\n",
    "\n",
    "pk.dump(output_data_gg_mm, open(save_dir_gg_gm + save_filename_gg_mm, 'wb'), protocol=2)\n",
    "pk.dump(output_data_gm_mm, open(save_dir_gg_gm + save_filename_gm_mm, 'wb'), protocol=2)\n",
    "\n"
   ]
  },
  {
   "cell_type": "code",
   "execution_count": null,
   "metadata": {},
   "outputs": [],
   "source": []
  }
 ],
 "metadata": {
  "kernelspec": {
   "display_name": "Python 3",
   "language": "python",
   "name": "python3"
  },
  "language_info": {
   "codemirror_mode": {
    "name": "ipython",
    "version": 3
   },
   "file_extension": ".py",
   "mimetype": "text/x-python",
   "name": "python",
   "nbconvert_exporter": "python",
   "pygments_lexer": "ipython3",
   "version": "3.7.3"
  }
 },
 "nbformat": 4,
 "nbformat_minor": 4
}
