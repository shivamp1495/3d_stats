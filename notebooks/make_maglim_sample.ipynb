{
 "cells": [
  {
   "cell_type": "code",
   "execution_count": 5,
   "metadata": {},
   "outputs": [
    {
     "name": "stdin",
     "output_type": "stream",
     "text": [
      "Once deleted, variables cannot be recovered. Proceed (y/[n])?  y\n"
     ]
    },
    {
     "name": "stdout",
     "output_type": "stream",
     "text": [
      "The autoreload extension is already loaded. To reload it, use:\n",
      "  %reload_ext autoreload\n"
     ]
    }
   ],
   "source": [
    "\n",
    "%reset\n",
    "import sys\n",
    "import matplotlib\n",
    "from astropy.io import fits\n",
    "import matplotlib.pyplot as plt\n",
    "import numpy as np\n",
    "%load_ext autoreload\n",
    "%autoreload 2\n",
    "\n",
    "matplotlib.rcParams['text.usetex'] = False\n",
    "# matplotlib.rcParams['text.latex.unicode'] = True\n",
    "\n",
    "%matplotlib inline\n",
    "\n"
   ]
  },
  {
   "cell_type": "code",
   "execution_count": 6,
   "metadata": {},
   "outputs": [],
   "source": [
    "mice_all = fits.open('/global/project/projectdirs/des/shivamp/actxdes/data_set/mice_sims/MICE2_all_galaxies_ds_2.fits')\n",
    "\n"
   ]
  },
  {
   "cell_type": "code",
   "execution_count": 7,
   "metadata": {},
   "outputs": [],
   "source": [
    "mag_i_true = mice_all[1].data['des_asahi_full_i_true']\n",
    "\n",
    "mag_i_abs = mice_all[1].data['des_asahi_full_i_abs_mag']\n",
    "\n",
    "ra_gal, dec_gal, z_gal, gal_id, halo_id, lmhalo, iscenter = mice_all[1].data['ra_gal'],mice_all[1].data['dec_gal'],mice_all[1].data['z_cgal'],mice_all[1].data['unique_gal_id'],mice_all[1].data['unique_halo_id'],mice_all[1].data['lmhalo'],mice_all[1].data['flag_central']      \n",
    "\n"
   ]
  },
  {
   "cell_type": "code",
   "execution_count": 8,
   "metadata": {},
   "outputs": [
    {
     "data": {
      "image/png": "[encoded data removed]",
      "text/plain": [
       "<matplotlib.figure.Figure at 0x2aae586fef50>"
      ]
     },
     "metadata": {
      "needs_background": "light"
     },
     "output_type": "display_data"
    }
   ],
   "source": [
    "fig, ax = plt.subplots(1,2, figsize=(9, 4))\n",
    "\n",
    "hist0 = ax[0].hist(mag_i_abs,bins=100)\n",
    "hist1 = ax[1].hist(mag_i_true,bins=100)\n",
    "\n"
   ]
  },
  {
   "cell_type": "code",
   "execution_count": 9,
   "metadata": {},
   "outputs": [],
   "source": [
    "\n",
    "maglim_sel = np.where((mag_i_true > 17.5) & (mag_i_true < 4*z_gal + 18))[0]\n",
    "\n",
    "\n",
    "\n"
   ]
  },
  {
   "cell_type": "code",
   "execution_count": 10,
   "metadata": {},
   "outputs": [
    {
     "data": {
      "text/plain": [
       "3002901"
      ]
     },
     "execution_count": 10,
     "metadata": {},
     "output_type": "execute_result"
    }
   ],
   "source": [
    "len(maglim_sel)\n",
    "\n",
    "\n"
   ]
  },
  {
   "cell_type": "code",
   "execution_count": 11,
   "metadata": {},
   "outputs": [
    {
     "data": {
      "text/plain": [
       "249804915"
      ]
     },
     "execution_count": 11,
     "metadata": {},
     "output_type": "execute_result"
    }
   ],
   "source": [
    "len(ra_gal)\n",
    "\n"
   ]
  },
  {
   "cell_type": "code",
   "execution_count": 12,
   "metadata": {},
   "outputs": [
    {
     "data": {
      "text/plain": [
       "1.41708"
      ]
     },
     "execution_count": 12,
     "metadata": {},
     "output_type": "execute_result"
    }
   ],
   "source": [
    "np.max(z_gal)\n",
    "\n"
   ]
  },
  {
   "cell_type": "code",
   "execution_count": 13,
   "metadata": {},
   "outputs": [],
   "source": [
    "z_new = z_gal[maglim_sel]\n",
    "\n",
    "\n"
   ]
  },
  {
   "cell_type": "code",
   "execution_count": 14,
   "metadata": {},
   "outputs": [
    {
     "data": {
      "image/png": "[encoded data removed]",
      "text/plain": [
       "<matplotlib.figure.Figure at 0x2aae5864c510>"
      ]
     },
     "metadata": {
      "needs_background": "light"
     },
     "output_type": "display_data"
    }
   ],
   "source": [
    "fig, ax = plt.subplots(1,1, figsize=(6, 4))\n",
    "\n",
    "hist0 = ax.hist(z_new,bins=100)\n",
    "\n",
    "ax.set_xlabel(r'$z$',size=16)\n",
    "ax.set_ylabel(r'$N_{gal}$',size=16)\n",
    "\n",
    "ax.tick_params(axis='both', which='major', labelsize=15)\n",
    "ax.tick_params(axis='both', which='minor', labelsize=15)\n",
    "\n",
    "fig.tight_layout()\n",
    "\n",
    "fig.savefig('maglim_mice.png')\n"
   ]
  },
  {
   "cell_type": "code",
   "execution_count": 18,
   "metadata": {},
   "outputs": [
    {
     "name": "stderr",
     "output_type": "stream",
     "text": [
      "WARNING: AstropyDeprecationWarning: \"clobber\" was deprecated in version 2.0 and will be removed in a future version. Use argument \"overwrite\" instead. [astropy.utils.decorators]\n"
     ]
    }
   ],
   "source": [
    "c1 = fits.Column(name='RA', format='E', array=ra_gal[maglim_sel])\n",
    "c2 = fits.Column(name='DEC', format='E', array=dec_gal[maglim_sel])\n",
    "c3 = fits.Column(name='Z', format='E', array=z_gal[maglim_sel])\n",
    "c4 = fits.Column(name='gal_id', format='E', array=gal_id[maglim_sel])\n",
    "c5 = fits.Column(name='halo_id', format='E', array=halo_id[maglim_sel])\n",
    "c6 = fits.Column(name='lmhalo', format='E', array=lmhalo[maglim_sel])\n",
    "c7 = fits.Column(name='iscenter', format='E', array=iscenter[maglim_sel])\n",
    "\n",
    "CC = [c1, c2, c3, c4, c5, c6, c7]\n",
    "hdu = fits.BinTableHDU.from_columns(CC, nrows=len(ra_gal[maglim_sel]))\n",
    "hdu.writeto('/global/project/projectdirs/des/shivamp/actxdes/data_set/mice_sims/micey1_maglim_ds2.fits', clobber=True)\n",
    "\n"
   ]
  },
  {
   "cell_type": "code",
   "execution_count": 19,
   "metadata": {},
   "outputs": [],
   "source": [
    "load_filename_galaxy_randoms = '/global/project/projectdirs/des/shivamp/actxdes/data_set/mice_sims/process_cats/randoms_galaxy_ra_dec_r_z_bin_jk_maglim_mice2_des_run_redmapper_v6.4.16_redmagic_redmagic_njkradec_180_njkz_1_ds_2.fits'   \n",
    "\n",
    "\n",
    "load_cat_rand_g = fits.open(load_filename_galaxy_randoms)\n"
   ]
  },
  {
   "cell_type": "code",
   "execution_count": 20,
   "metadata": {},
   "outputs": [],
   "source": [
    "ra_rand_g, dec_rand_g, r_rand_g, z_rand_g, bin_rand_g, jk_rand_g = load_cat_rand_g[1].data['RA'], \\\n",
    "                                                                   load_cat_rand_g[1].data['DEC'], \\\n",
    "                                                                   load_cat_rand_g[1].data['R'], \\\n",
    "                                                                   load_cat_rand_g[1].data['Z'], \\\n",
    "                                                                   load_cat_rand_g[1].data['BIN'], \\\n",
    "                                                                   load_cat_rand_g[1].data['JK']\n",
    "\n"
   ]
  },
  {
   "cell_type": "code",
   "execution_count": 23,
   "metadata": {},
   "outputs": [],
   "source": [
    "load_filename_galaxy = '/global/project/projectdirs/des/shivamp/actxdes/data_set/mice_sims/process_cats/galaxy_ra_dec_r_z_bin_jk_maglim_mice2_des_run_redmapper_v6.4.16_redmagic_njkradec_180_njkz_1_ds_2.fits'   \n",
    "load_cat_g = fits.open(load_filename_galaxy)\n",
    "\n",
    "ra_g, dec_g, r_g, z_g, bin_g, jk_g = load_cat_g[1].data['RA'], load_cat_g[1].data['DEC'], load_cat_g[1].data['R'], \\\n",
    "                                         load_cat_g[1].data['Z'], load_cat_g[1].data['BIN'], load_cat_g[1].data['JK']\n",
    "\n"
   ]
  },
  {
   "cell_type": "code",
   "execution_count": 24,
   "metadata": {},
   "outputs": [
    {
     "data": {
      "text/plain": [
       "<matplotlib.figure.Figure at 0x2aae5a39bbd0>"
      ]
     },
     "metadata": {},
     "output_type": "display_data"
    },
    {
     "data": {
      "image/png": "[encoded data removed]",
      "text/plain": [
       "<matplotlib.figure.Figure at 0x2aae5dcb27d0>"
      ]
     },
     "metadata": {
      "needs_background": "light"
     },
     "output_type": "display_data"
    }
   ],
   "source": [
    "def eq2ang(ra, dec):\n",
    "    phi = ra * np.pi / 180.\n",
    "    theta = (np.pi / 2.) - dec * (np.pi / 180.)\n",
    "    return theta, phi\n",
    "\n",
    "import healpy as hp\n",
    "theta_g, phi_g = eq2ang(ra_g, dec_g)\n",
    "ind_m_f = hp.ang2pix(128, theta_g, phi_g)\n",
    "mask_m = np.zeros(hp.nside2npix(128))\n",
    "mask_m[ind_m_f] = 1\n",
    "plt.figure()\n",
    "hp.mollview(mask_m)\n",
    "\n"
   ]
  },
  {
   "cell_type": "code",
   "execution_count": 27,
   "metadata": {},
   "outputs": [
    {
     "data": {
      "text/plain": [
       "(array([2.00000e+00, 0.00000e+00, 0.00000e+00, 0.00000e+00, 0.00000e+00,\n",
       "        0.00000e+00, 0.00000e+00, 3.00659e+05, 6.02897e+05, 5.97890e+05]),\n",
       " array([-269.99963 , -233.99976 , -197.99988 , -162.      , -126.00012 ,\n",
       "         -90.000244,  -54.000362,  -18.000483,   17.999395,   53.999275,\n",
       "          89.99915 ], dtype=float32),\n",
       " <a list of 10 Patch objects>)"
      ]
     },
     "execution_count": 27,
     "metadata": {},
     "output_type": "execute_result"
    },
    {
     "data": {
      "image/png": "[encoded data removed]",
      "text/plain": [
       "<matplotlib.figure.Figure at 0x2aae5e4ace90>"
      ]
     },
     "metadata": {
      "needs_background": "light"
     },
     "output_type": "display_data"
    }
   ],
   "source": [
    "plt.figure()\n",
    "plt.hist(ra_g)\n",
    "\n"
   ]
  },
  {
   "cell_type": "code",
   "execution_count": 22,
   "metadata": {},
   "outputs": [
    {
     "data": {
      "text/plain": [
       "<matplotlib.figure.Figure at 0x2aae5dcb2310>"
      ]
     },
     "metadata": {},
     "output_type": "display_data"
    },
    {
     "data": {
      "image/png": "[encoded data removed]",
      "text/plain": [
       "<matplotlib.figure.Figure at 0x2aaad85cafd0>"
      ]
     },
     "metadata": {
      "needs_background": "light"
     },
     "output_type": "display_data"
    }
   ],
   "source": [
    "def eq2ang(ra, dec):\n",
    "    phi = ra * np.pi / 180.\n",
    "    theta = (np.pi / 2.) - dec * (np.pi / 180.)\n",
    "    return theta, phi\n",
    "\n",
    "import healpy as hp\n",
    "theta_g, phi_g = eq2ang(ra_rand_g, dec_rand_g)\n",
    "ind_m_f = hp.ang2pix(128, theta_g, phi_g)\n",
    "mask_m = np.zeros(hp.nside2npix(128))\n",
    "mask_m[ind_m_f] = 1\n",
    "plt.figure()\n",
    "hp.mollview(mask_m)\n",
    "\n"
   ]
  },
  {
   "cell_type": "code",
   "execution_count": null,
   "metadata": {},
   "outputs": [],
   "source": []
  }
 ],
 "metadata": {
  "kernelspec": {
   "display_name": "myenv_new_jupyter",
   "language": "python",
   "name": "myenv_new_jupyter"
  },
  "language_info": {
   "codemirror_mode": {
    "name": "ipython",
    "version": 2
   },
   "file_extension": ".py",
   "mimetype": "text/x-python",
   "name": "python",
   "nbconvert_exporter": "python",
   "pygments_lexer": "ipython2",
   "version": "2.7.15"
  }
 },
 "nbformat": 4,
 "nbformat_minor": 2
}
